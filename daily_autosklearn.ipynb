{
 "cells": [
  {
   "cell_type": "code",
   "execution_count": 35,
   "id": "damaged-found",
   "metadata": {},
   "outputs": [],
   "source": [
    "from sklearn.metrics import mean_squared_error\n",
    "import pandas as pd\n",
    "# import math\n",
    "import numpy as np\n",
    "import autosklearn.regression"
   ]
  },
  {
   "cell_type": "code",
   "execution_count": 36,
   "id": "5f07bb48-3602-46ec-9b72-80c6516fb76c",
   "metadata": {},
   "outputs": [],
   "source": [
    "import matplotlib.pyplot as plt"
   ]
  },
  {
   "cell_type": "code",
   "execution_count": 37,
   "id": "f0cdf6df-8bb3-4242-8a98-c4a3925aaa5b",
   "metadata": {},
   "outputs": [],
   "source": [
    "from alibi.explainers import ALE, plot_ale"
   ]
  },
  {
   "cell_type": "code",
   "execution_count": 38,
   "id": "hispanic-division",
   "metadata": {},
   "outputs": [],
   "source": [
    "df = pd.read_csv(\"./raw_data/20221026/df.ami.daily.csv\")\n",
    "# df = df[df[\"year\"] <= 2019]\n",
    "train_len = int(len(df) * .8)\n",
    "test = df[train_len:]\n",
    "df = df[:train_len]\n",
    "# df = df[df[\"ischemic\"] == 1]\n"
   ]
  },
  {
   "cell_type": "code",
   "execution_count": 39,
   "id": "crucial-stage",
   "metadata": {},
   "outputs": [
    {
     "data": {
      "text/plain": [
       "2044"
      ]
     },
     "execution_count": 39,
     "metadata": {},
     "output_type": "execute_result"
    }
   ],
   "source": [
    "len(df)"
   ]
  },
  {
   "cell_type": "code",
   "execution_count": 40,
   "id": "rental-manhattan",
   "metadata": {},
   "outputs": [
    {
     "data": {
      "text/plain": [
       "Unnamed: 0                        int64\n",
       "Attendance.Date..yyyy.mm.dd.     object\n",
       "n                                 int64\n",
       "year                              int64\n",
       "month                             int64\n",
       "Day                               int64\n",
       "Mean (deg. C)                   float64\n",
       "Mean Relative Humidity (%)        int64\n",
       "CO                              float64\n",
       "FSP                             float64\n",
       "NO2                             float64\n",
       "NOX                             float64\n",
       "O3                              float64\n",
       "RSP                             float64\n",
       "SO2                             float64\n",
       "total                             int64\n",
       "dtype: object"
      ]
     },
     "execution_count": 40,
     "metadata": {},
     "output_type": "execute_result"
    }
   ],
   "source": [
    "df.dtypes"
   ]
  },
  {
   "cell_type": "code",
   "execution_count": 41,
   "id": "confidential-choice",
   "metadata": {},
   "outputs": [
    {
     "data": {
      "text/plain": [
       "n    int64\n",
       "dtype: object"
      ]
     },
     "execution_count": 41,
     "metadata": {},
     "output_type": "execute_result"
    }
   ],
   "source": [
    "df.drop([\"Unnamed: 0\", \"year\", \"month\", \"Day\", \"Attendance.Date..yyyy.mm.dd.\"], axis = 1).dtypes\n",
    "df[[\"n\"]].dtypes"
   ]
  },
  {
   "cell_type": "markdown",
   "id": "smooth-cooking",
   "metadata": {},
   "source": [
    "# autosklearn"
   ]
  },
  {
   "cell_type": "code",
   "execution_count": 42,
   "id": "broken-jungle",
   "metadata": {},
   "outputs": [],
   "source": [
    "X_train = df[[\n",
    "    \"FSP\", \"RSP\", \"SO2\", \"O3\", \"NO2\", \"NOX\",\n",
    "               \"total\", \n",
    "               \"Mean (deg. C)\", \"Mean Relative Humidity (%)\"\n",
    "]]\n",
    "feature_names = X_train.columns\n",
    "y_train = df[[\"n\"]]\n",
    "X_train = np.array(X_train)"
   ]
  },
  {
   "cell_type": "code",
   "execution_count": 43,
   "id": "occasional-tomato",
   "metadata": {},
   "outputs": [
    {
     "data": {
      "text/plain": [
       "AutoSklearnRegressor(ensemble_class=<class 'autosklearn.ensembles.ensemble_selection.EnsembleSelection'>,\n",
       "                     per_run_time_limit=12, time_left_for_this_task=120)"
      ]
     },
     "execution_count": 43,
     "metadata": {},
     "output_type": "execute_result"
    }
   ],
   "source": [
    "aml = autosklearn.regression.AutoSklearnRegressor(\n",
    "    time_left_for_this_task = 120\n",
    ")\n",
    "aml.fit(X_train, y_train)"
   ]
  },
  {
   "cell_type": "code",
   "execution_count": 44,
   "id": "a770343a-9461-446c-a4d6-8186e43fbd8c",
   "metadata": {},
   "outputs": [],
   "source": [
    "ale = ALE(aml.predict, feature_names = feature_names, target_names = [\"n\"])"
   ]
  },
  {
   "cell_type": "code",
   "execution_count": 45,
   "id": "6ed54a45-6029-49aa-a7e6-11b732009ca5",
   "metadata": {},
   "outputs": [],
   "source": [
    "aml_exp = ale.explain(np.array(X_train))"
   ]
  },
  {
   "cell_type": "code",
   "execution_count": 46,
   "id": "a568f158-99a9-46f5-bef6-4859fca793d1",
   "metadata": {},
   "outputs": [
    {
     "data": {
      "text/plain": [
       "array([[<AxesSubplot:xlabel='FSP', ylabel='ALE'>,\n",
       "        <AxesSubplot:xlabel='RSP', ylabel='ALE'>,\n",
       "        <AxesSubplot:xlabel='SO2', ylabel='ALE'>],\n",
       "       [<AxesSubplot:xlabel='O3', ylabel='ALE'>,\n",
       "        <AxesSubplot:xlabel='NO2', ylabel='ALE'>,\n",
       "        <AxesSubplot:xlabel='NOX', ylabel='ALE'>],\n",
       "       [<AxesSubplot:xlabel='total', ylabel='ALE'>,\n",
       "        <AxesSubplot:xlabel='Mean (deg. C)', ylabel='ALE'>,\n",
       "        <AxesSubplot:xlabel='Mean Relative Humidity (%)', ylabel='ALE'>]],\n",
       "      dtype=object)"
      ]
     },
     "execution_count": 46,
     "metadata": {},
     "output_type": "execute_result"
    },
    {
     "data": {
      "image/png": "[encoded data removed]",
      "text/plain": [
       "<Figure size 640x480 with 10 Axes>"
      ]
     },
     "metadata": {},
     "output_type": "display_data"
    }
   ],
   "source": [
    "plot_ale(aml_exp)"
   ]
  },
  {
   "cell_type": "code",
   "execution_count": null,
   "id": "surgical-helicopter",
   "metadata": {},
   "outputs": [],
   "source": []
  }
 ],
 "metadata": {
  "kernelspec": {
   "display_name": "Python 3 (ipykernel)",
   "language": "python",
   "name": "python3"
  },
  "language_info": {
   "codemirror_mode": {
    "name": "ipython",
    "version": 3
   },
   "file_extension": ".py",
   "mimetype": "text/x-python",
   "name": "python",
   "nbconvert_exporter": "python",
   "pygments_lexer": "ipython3",
   "version": "3.10.6"
  }
 },
 "nbformat": 4,
 "nbformat_minor": 5
}
