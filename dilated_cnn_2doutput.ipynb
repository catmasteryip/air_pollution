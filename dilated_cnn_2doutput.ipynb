{
 "cells": [
  {
   "cell_type": "code",
   "execution_count": 189,
   "id": "sufficient-israel",
   "metadata": {},
   "outputs": [],
   "source": [
    "from cond_rnn import ConditionalRNN\n",
    "from tensorflow.keras import Input\n",
    "from tensorflow.keras.layers import LSTM\n",
    "import pandas as pd\n",
    "import math\n",
    "import numpy as np"
   ]
  },
  {
   "cell_type": "code",
   "execution_count": 250,
   "id": "atomic-commitment",
   "metadata": {},
   "outputs": [],
   "source": [
    "# import data\n",
    "import pickle\n",
    "with open(\"datasets2.pickle\", \"rb\") as handle:\n",
    "    input_data_shiftedy = pickle.load(handle)\n",
    "# select only n, daily asthma visits and total, daily total AE visits, \n",
    "# comment out if including air pollution station data\n",
    "# first_col = input_data_shiftedy.n / input_data_shiftedy.total * 1000\n",
    "# input_data_shiftedy.insert(0, \"prevalence\", first_col)\n",
    "input_data_shiftedy = input_data_shiftedy.drop([\"total\", \"y\"], axis = 1)\n",
    "data = None\n",
    "# input_data_shiftedy = pd.concat([input_data_shiftedy.n.reset_index(drop = True), \n",
    "#                         input_data_shiftedy.total.reset_index(drop = True)], axis = 1)"
   ]
  },
  {
   "cell_type": "markdown",
   "id": "familiar-toronto",
   "metadata": {},
   "source": [
    "# optional, average of air pollution"
   ]
  },
  {
   "cell_type": "code",
   "execution_count": 251,
   "id": "prompt-relation",
   "metadata": {},
   "outputs": [],
   "source": [
    "input_data_shiftedy = input_data_shiftedy.drop(input_data_shiftedy.filter(regex='CENTRAL$|CAUSEWAY BAY|MONG KO|TAP MUN').columns, axis = 1)\n",
    "input_data_shiftedy['CO'] = input_data_shiftedy[[col for col in input_data_shiftedy.columns if 'CO' in col]].mean(axis=1)\n",
    "input_data_shiftedy['FSP'] = input_data_shiftedy[[col for col in input_data_shiftedy.columns if 'FSP' in col]].mean(axis=1)\n",
    "input_data_shiftedy['NO2'] = input_data_shiftedy[[col for col in input_data_shiftedy.columns if 'NO2' in col]].mean(axis=1)\n",
    "input_data_shiftedy['NOX'] = input_data_shiftedy[[col for col in input_data_shiftedy.columns if 'NOX' in col]].mean(axis=1)\n",
    "input_data_shiftedy['O3'] = input_data_shiftedy[[col for col in input_data_shiftedy.columns if 'O3' in col]].mean(axis=1)\n",
    "input_data_shiftedy['RSP'] = input_data_shiftedy[[col for col in input_data_shiftedy.columns if 'RSP' in col]].mean(axis=1)\n",
    "input_data_shiftedy['SO2'] = input_data_shiftedy[[col for col in input_data_shiftedy.columns if 'SO2' in col]].mean(axis=1)\n",
    "input_data_shiftedy = input_data_shiftedy.drop(input_data_shiftedy.filter(regex='_').columns, axis = 1)"
   ]
  },
  {
   "cell_type": "code",
   "execution_count": 252,
   "id": "resistant-academy",
   "metadata": {},
   "outputs": [],
   "source": [
    "input_data_shiftedy = input_data_shiftedy.drop([\"FSP\", \"NO2\", \"NOX\", \"O3\", \"RSP\"], axis = 1)"
   ]
  },
  {
   "cell_type": "code",
   "execution_count": 253,
   "id": "promising-batman",
   "metadata": {},
   "outputs": [
    {
     "data": {
      "text/plain": [
       "array(['n', 'Mean (deg. C)', 'Mean Relative Humidity (%)', 'CO', 'SO2'],\n",
       "      dtype=object)"
      ]
     },
     "execution_count": 253,
     "metadata": {},
     "output_type": "execute_result"
    }
   ],
   "source": [
    "input_data_shiftedy.columns.values"
   ]
  },
  {
   "cell_type": "markdown",
   "id": "interpreted-healthcare",
   "metadata": {},
   "source": [
    "# optional, select prevalence only"
   ]
  },
  {
   "cell_type": "code",
   "execution_count": 254,
   "id": "worthy-background",
   "metadata": {},
   "outputs": [],
   "source": [
    "if data == \"prev only\":\n",
    "    input_data_shiftedy = input_data_shiftedy[\"prevalence\"]"
   ]
  },
  {
   "cell_type": "code",
   "execution_count": 255,
   "id": "still-straight",
   "metadata": {},
   "outputs": [
    {
     "data": {
      "text/html": [
       "<div>\n",
       "<style scoped>\n",
       "    .dataframe tbody tr th:only-of-type {\n",
       "        vertical-align: middle;\n",
       "    }\n",
       "\n",
       "    .dataframe tbody tr th {\n",
       "        vertical-align: top;\n",
       "    }\n",
       "\n",
       "    .dataframe thead th {\n",
       "        text-align: right;\n",
       "    }\n",
       "</style>\n",
       "<table border=\"1\" class=\"dataframe\">\n",
       "  <thead>\n",
       "    <tr style=\"text-align: right;\">\n",
       "      <th></th>\n",
       "      <th>n</th>\n",
       "      <th>Mean (deg. C)</th>\n",
       "      <th>Mean Relative Humidity (%)</th>\n",
       "      <th>CO</th>\n",
       "      <th>SO2</th>\n",
       "    </tr>\n",
       "  </thead>\n",
       "  <tbody>\n",
       "    <tr>\n",
       "      <th>2524</th>\n",
       "      <td>30</td>\n",
       "      <td>22.4</td>\n",
       "      <td>67</td>\n",
       "      <td>65.038690</td>\n",
       "      <td>6.661374</td>\n",
       "    </tr>\n",
       "    <tr>\n",
       "      <th>2525</th>\n",
       "      <td>25</td>\n",
       "      <td>21.3</td>\n",
       "      <td>59</td>\n",
       "      <td>66.717456</td>\n",
       "      <td>5.980322</td>\n",
       "    </tr>\n",
       "    <tr>\n",
       "      <th>2526</th>\n",
       "      <td>20</td>\n",
       "      <td>17.3</td>\n",
       "      <td>40</td>\n",
       "      <td>46.510417</td>\n",
       "      <td>5.244848</td>\n",
       "    </tr>\n",
       "    <tr>\n",
       "      <th>2527</th>\n",
       "      <td>29</td>\n",
       "      <td>17.4</td>\n",
       "      <td>42</td>\n",
       "      <td>50.367877</td>\n",
       "      <td>6.430880</td>\n",
       "    </tr>\n",
       "    <tr>\n",
       "      <th>2528</th>\n",
       "      <td>19</td>\n",
       "      <td>18.0</td>\n",
       "      <td>35</td>\n",
       "      <td>52.520833</td>\n",
       "      <td>6.383235</td>\n",
       "    </tr>\n",
       "  </tbody>\n",
       "</table>\n",
       "</div>"
      ],
      "text/plain": [
       "       n  Mean (deg. C)  Mean Relative Humidity (%)         CO       SO2\n",
       "2524  30           22.4                          67  65.038690  6.661374\n",
       "2525  25           21.3                          59  66.717456  5.980322\n",
       "2526  20           17.3                          40  46.510417  5.244848\n",
       "2527  29           17.4                          42  50.367877  6.430880\n",
       "2528  19           18.0                          35  52.520833  6.383235"
      ]
     },
     "execution_count": 255,
     "metadata": {},
     "output_type": "execute_result"
    }
   ],
   "source": [
    "input_data_shiftedy.tail()"
   ]
  },
  {
   "cell_type": "code",
   "execution_count": 256,
   "id": "official-decrease",
   "metadata": {},
   "outputs": [],
   "source": [
    "# input_data_shiftedy.to_excel(\"prevalence.airpoln.xlsx\")"
   ]
  },
  {
   "cell_type": "code",
   "execution_count": 257,
   "id": "widespread-serbia",
   "metadata": {},
   "outputs": [
    {
     "data": {
      "text/plain": [
       "1861"
      ]
     },
     "execution_count": 257,
     "metadata": {},
     "output_type": "execute_result"
    }
   ],
   "source": [
    "int(len(input_data_shiftedy) * .8)"
   ]
  },
  {
   "cell_type": "code",
   "execution_count": 258,
   "id": "musical-combination",
   "metadata": {},
   "outputs": [],
   "source": [
    "# scaling fit with train-test split consideration to avoid data leakage\n",
    "# may need verification\n",
    "from sklearn.preprocessing import StandardScaler, Normalizer\n",
    "\n",
    "# number of time steps for sequence learning\n",
    "n_steps_x = 14\n",
    "# number of time steps for sequence prediction\n",
    "n_steps_y = 7\n",
    "\n",
    "split_at = int(len(input_data_shiftedy) * .8)\n",
    "val_split_at = int(len(input_data_shiftedy) * .9)\n",
    "\n",
    "\n",
    "scaler = StandardScaler()\n",
    "# if including air pollution data\n",
    "# fit by training set only\n",
    "input_data_shiftedy.iloc[:(split_at + n_steps_x + n_steps_y),1:] = scaler.fit_transform(\n",
    "    input_data_shiftedy.iloc[:(split_at + n_steps_x + n_steps_y),1:])\n",
    "# only transform valid and testing sets\n",
    "input_data_shiftedy.iloc[(split_at + n_steps_x + n_steps_y):,1:] = scaler.transform(\n",
    "    input_data_shiftedy.iloc[(split_at + n_steps_x + n_steps_y):,1:])\n",
    "\n"
   ]
  },
  {
   "cell_type": "markdown",
   "id": "chinese-invalid",
   "metadata": {},
   "source": [
    "# optional for only prevalence scenario, no air pollution data"
   ]
  },
  {
   "cell_type": "code",
   "execution_count": 259,
   "id": "hungry-photography",
   "metadata": {},
   "outputs": [],
   "source": [
    "# # if only prevalence data\n",
    "# input_data_shiftedy = input_data_shiftedy.values.reshape((input_data_shiftedy.shape[0], -1))\n",
    "# input_data_shiftedy[:(split_at + n_steps_x + n_steps_y)] = scaler.fit_transform(\n",
    "#     input_data_shiftedy[:(split_at + n_steps_x + n_steps_y)])\n",
    "# # only transform valid and testing sets\n",
    "# input_data_shiftedy[(split_at + n_steps_x + n_steps_y):] = scaler.transform(\n",
    "#     input_data_shiftedy[(split_at + n_steps_x + n_steps_y):])"
   ]
  },
  {
   "cell_type": "code",
   "execution_count": 260,
   "id": "scheduled-elizabeth",
   "metadata": {},
   "outputs": [],
   "source": [
    "def reshape_sliding1(X, num_steps_x = 2, num_steps_y = 2):\n",
    "    X = pd.DataFrame(X)\n",
    "    X_transformed = [np.array(X.shift(i)) for i in range(num_steps_x + num_steps_y)]\n",
    "    X_transformed = np.dstack(X_transformed)\n",
    "    \n",
    "    # swap time steps and dimensionality axes\n",
    "    X_transformed = np.swapaxes(X_transformed, 1, 2)\n",
    "    # flip time steps axis\n",
    "    X_transformed = np.flip(X_transformed, 1)\n",
    "    X_transformed = X_transformed[(num_steps_x+num_steps_y - 1):]\n",
    "    return X_transformed"
   ]
  },
  {
   "cell_type": "code",
   "execution_count": 261,
   "id": "dimensional-implement",
   "metadata": {},
   "outputs": [],
   "source": [
    "\n",
    "input_data_shiftedy = reshape_sliding1(input_data_shiftedy, \n",
    "                                       num_steps_x = n_steps_x,\n",
    "                                      num_steps_y = n_steps_y)"
   ]
  },
  {
   "cell_type": "code",
   "execution_count": 278,
   "id": "referenced-equivalent",
   "metadata": {},
   "outputs": [
    {
     "name": "stdout",
     "output_type": "stream",
     "text": [
      "1 15\n",
      "2 16\n",
      "3 17\n",
      "4 18\n",
      "5 19\n",
      "6 20\n",
      "7 21\n"
     ]
    }
   ],
   "source": [
    "# train_test_split \n",
    "# ignore prevalence\n",
    "X_train = input_data_shiftedy[:split_at, :n_steps_x, :]\n",
    "X_valid = input_data_shiftedy[split_at:val_split_at, :n_steps_x, :]\n",
    "X_test = input_data_shiftedy[val_split_at:, :n_steps_x, :]\n",
    "\n",
    "Y = np.empty((input_data_shiftedy.shape[0], n_steps_x, n_steps_y))\n",
    "for step_ahead in range(1, n_steps_y + 1):\n",
    "    print(step_ahead, step_ahead + n_steps_x)\n",
    "    Y[..., step_ahead - 1] = input_data_shiftedy[..., step_ahead:step_ahead + n_steps_x, 0]\n",
    "Y_train = Y[:split_at]\n",
    "Y_valid = Y[split_at:val_split_at]\n",
    "Y_test = Y[val_split_at:]"
   ]
  },
  {
   "cell_type": "code",
   "execution_count": 279,
   "id": "promotional-spectacular",
   "metadata": {},
   "outputs": [
    {
     "data": {
      "text/plain": [
       "(213, 14, 7)"
      ]
     },
     "execution_count": 279,
     "metadata": {},
     "output_type": "execute_result"
    }
   ],
   "source": [
    "Y_test.shape"
   ]
  },
  {
   "cell_type": "code",
   "execution_count": 280,
   "id": "recovered-lover",
   "metadata": {},
   "outputs": [],
   "source": [
    "# # # optional\n",
    "# X_train = X_train.reshape(X_train.shape[0], X_train.shape[1], 1)\n",
    "# X_valid = X_valid.reshape(X_valid.shape[0], X_valid.shape[1], 1)\n",
    "# X_test = X_test.reshape(X_test.shape[0], X_test.shape[1], 1)"
   ]
  },
  {
   "cell_type": "code",
   "execution_count": 281,
   "id": "jewish-vector",
   "metadata": {},
   "outputs": [
    {
     "name": "stdout",
     "output_type": "stream",
     "text": [
      "(1861, 14, 5) (1861, 14, 7) (233, 14, 5) (233, 14, 7)\n"
     ]
    }
   ],
   "source": [
    "# checking dimensionality\n",
    "print(X_train.shape, Y_train.shape, X_valid.shape, Y_valid.shape)\n",
    "assert X_train.shape[1:] == X_valid.shape[1:]\n",
    "assert Y_train.shape[1:] == Y_valid.shape[1:]"
   ]
  },
  {
   "cell_type": "markdown",
   "id": "likely-advocacy",
   "metadata": {},
   "source": [
    "# modelling\n",
    "1. as of 23rd aug 2022: rnn loss nan problem <br>\n",
    "possible remedies: normalize data, regularization, increase batch size <br>\n",
    "https://datascience.stackexchange.com/questions/68331/keras-sequential-model-returns-loss-nan <br>\n",
    "2. as of 24th aug 2022: try to add overall AE visit to include hospital avoidance effect\n",
    "3. as of 25th aug 2022: corrected reshaping problem, performance is still shit, try remove air pollution, try larger learning rate\n",
    "4. as of 26th aug 2022: try seq2seq model, it worked \n",
    "5. from the results it seems most contributing factor is total AE trend \n"
   ]
  },
  {
   "cell_type": "code",
   "execution_count": 282,
   "id": "intelligent-macro",
   "metadata": {},
   "outputs": [],
   "source": [
    "from tensorflow import keras\n",
    "import tensorflow as tf"
   ]
  },
  {
   "cell_type": "code",
   "execution_count": 283,
   "id": "welsh-portugal",
   "metadata": {},
   "outputs": [],
   "source": [
    "optimizer = keras.optimizers.Adam(clipvalue = 1)"
   ]
  },
  {
   "cell_type": "code",
   "execution_count": 284,
   "id": "terminal-atmosphere",
   "metadata": {},
   "outputs": [],
   "source": [
    "callback = keras.callbacks.EarlyStopping(monitor='val_loss', patience=3)"
   ]
  },
  {
   "cell_type": "code",
   "execution_count": 285,
   "id": "parliamentary-moldova",
   "metadata": {},
   "outputs": [],
   "source": [
    "model = \"dilated cnn\""
   ]
  },
  {
   "cell_type": "code",
   "execution_count": 286,
   "id": "electoral-airport",
   "metadata": {},
   "outputs": [],
   "source": [
    "def last_time_step_mse(Y_true, Y_pred):\n",
    "    return keras.metrics.mean_squared_error(Y_true[:, -1], Y_pred[:, -1])\n",
    "\n",
    "if model == \"dilated cnn\":\n",
    "    # simplified wavenet\n",
    "    model = keras.models.Sequential()\n",
    "    model.add(keras.layers.InputLayer(input_shape = [None, X_train.shape[2]]))\n",
    "    for rate in (1, 2, 4, 8, 16) * 2:\n",
    "        model.add(keras.layers.Conv1D(filters = 100, kernel_size = 2, padding = \"causal\",\n",
    "                                     activation = \"relu\", dilation_rate = rate))\n",
    "    model.add(keras.layers.Conv1D(filters = Y_train.shape[2], kernel_size = 1))\n",
    "    # reshape \n",
    "    # outputs_1d = Lambda(lambda x: tf.squeeze(x))(outputs)\n",
    "    # model.add(keras.layers.Lambda(lambda x: tf.squeeze(x)))\n",
    "    # model.add(keras.layers.Lambda(lambda x: tf.reshape(x, [-1, 14])))\n",
    "    # model.add(keras.layers.Reshape((None, None), input_shape = model.output_shape))\n",
    "    model.compile(loss = \"mse\", optimizer = optimizer, metrics = [last_time_step_mse])"
   ]
  },
  {
   "cell_type": "code",
   "execution_count": 287,
   "id": "broad-horizon",
   "metadata": {},
   "outputs": [],
   "source": [
    "if model == \"gru\":\n",
    "    model = keras.models.Sequential([\n",
    "        keras.layers.GRU(100, return_sequences=True, input_shape=[None, X_train.shape[2]]),\n",
    "        keras.layers.GRU(150, return_sequences=True),\n",
    "        keras.layers.TimeDistributed(keras.layers.Dense(Y_train.shape[2]))\n",
    "    ])\n",
    "\n",
    "    model.compile(loss=\"mse\", optimizer=\"adam\", metrics=[last_time_step_mse])"
   ]
  },
  {
   "cell_type": "code",
   "execution_count": 288,
   "id": "loaded-darwin",
   "metadata": {},
   "outputs": [
    {
     "name": "stdout",
     "output_type": "stream",
     "text": [
      "Epoch 1/30\n",
      "59/59 [==============================] - 2s 17ms/step - loss: 406.5909 - last_time_step_mse: 497.8535 - val_loss: 26.1215 - val_last_time_step_mse: 24.4723\n",
      "Epoch 2/30\n",
      "59/59 [==============================] - 1s 13ms/step - loss: 62.3507 - last_time_step_mse: 58.6658 - val_loss: 24.8619 - val_last_time_step_mse: 23.8866\n",
      "Epoch 3/30\n",
      "59/59 [==============================] - 1s 13ms/step - loss: 60.6844 - last_time_step_mse: 57.7803 - val_loss: 26.7670 - val_last_time_step_mse: 23.6813\n",
      "Epoch 4/30\n",
      "59/59 [==============================] - 1s 14ms/step - loss: 59.1514 - last_time_step_mse: 54.8148 - val_loss: 26.3584 - val_last_time_step_mse: 24.5368\n",
      "Epoch 5/30\n",
      "59/59 [==============================] - 1s 14ms/step - loss: 59.8634 - last_time_step_mse: 56.4490 - val_loss: 33.3574 - val_last_time_step_mse: 31.6203\n"
     ]
    }
   ],
   "source": [
    "history = model.fit(X_train, Y_train, epochs=30,\n",
    "                    validation_data=(X_valid, Y_valid),\n",
    "                    callbacks = [callback]\n",
    "                   )"
   ]
  },
  {
   "cell_type": "code",
   "execution_count": 289,
   "id": "continuing-metadata",
   "metadata": {},
   "outputs": [],
   "source": [
    "# inference \n",
    "import matplotlib.pyplot as plt"
   ]
  },
  {
   "cell_type": "code",
   "execution_count": 290,
   "id": "bright-groove",
   "metadata": {},
   "outputs": [],
   "source": [
    "\n",
    "pred = model.predict(X_test)"
   ]
  },
  {
   "cell_type": "code",
   "execution_count": 291,
   "id": "swiss-bargain",
   "metadata": {},
   "outputs": [],
   "source": [
    "assert pred.shape == Y_test.shape"
   ]
  },
  {
   "cell_type": "code",
   "execution_count": 292,
   "id": "packed-concert",
   "metadata": {},
   "outputs": [
    {
     "name": "stdout",
     "output_type": "stream",
     "text": [
      "(213, 14, 7)\n"
     ]
    }
   ],
   "source": [
    "print(pred.shape)"
   ]
  },
  {
   "cell_type": "code",
   "execution_count": 293,
   "id": "caroline-protein",
   "metadata": {},
   "outputs": [
    {
     "data": {
      "text/plain": [
       "[<matplotlib.lines.Line2D at 0x7f7eda15acf8>]"
      ]
     },
     "execution_count": 293,
     "metadata": {},
     "output_type": "execute_result"
    },
    {
     "data": {
      "image/png": "[encoded data removed]",
      "text/plain": [
       "<Figure size 432x288 with 1 Axes>"
      ]
     },
     "metadata": {
      "needs_background": "light"
     },
     "output_type": "display_data"
    }
   ],
   "source": [
    "plt.plot(np.double(pred[:, -1, -1]).flatten(), alpha = .5)\n",
    "plt.plot(np.double(Y_test[:, -1, -1]).flatten(), alpha = .5)"
   ]
  },
  {
   "cell_type": "code",
   "execution_count": 277,
   "id": "another-knitting",
   "metadata": {},
   "outputs": [
    {
     "data": {
      "text/plain": [
       "<tf.Tensor: shape=(), dtype=float32, numpy=19.642014>"
      ]
     },
     "execution_count": 277,
     "metadata": {},
     "output_type": "execute_result"
    }
   ],
   "source": [
    "def last_time_step_mse_total(Y_true, Y_pred):\n",
    "    return keras.metrics.mean_squared_error(Y_true[:, -1, -1], Y_pred[:, -1, -1])\n",
    "last_time_step_mse_total(Y_test, pred)"
   ]
  },
  {
   "cell_type": "code",
   "execution_count": 27,
   "id": "downtown-microphone",
   "metadata": {},
   "outputs": [],
   "source": [
    "pred = model.predict(X_valid)"
   ]
  },
  {
   "cell_type": "code",
   "execution_count": 28,
   "id": "supposed-monitor",
   "metadata": {},
   "outputs": [
    {
     "data": {
      "text/plain": [
       "[<matplotlib.lines.Line2D at 0x7fa8c7f4ca90>]"
      ]
     },
     "execution_count": 28,
     "metadata": {},
     "output_type": "execute_result"
    },
    {
     "data": {
      "image/png": "[encoded data removed]",
      "text/plain": [
       "<Figure size 432x288 with 1 Axes>"
      ]
     },
     "metadata": {
      "needs_background": "light"
     },
     "output_type": "display_data"
    }
   ],
   "source": [
    "plt.plot(np.double(pred[:, -1]).flatten(), alpha = .5)\n",
    "plt.plot(np.double(Y_valid[:, -1]).flatten(), alpha = .5)"
   ]
  },
  {
   "cell_type": "code",
   "execution_count": 26,
   "id": "animated-massage",
   "metadata": {},
   "outputs": [
    {
     "data": {
      "text/plain": [
       "(233, 14)"
      ]
     },
     "execution_count": 26,
     "metadata": {},
     "output_type": "execute_result"
    }
   ],
   "source": [
    "pred.shape"
   ]
  },
  {
   "cell_type": "markdown",
   "id": "incorrect-roman",
   "metadata": {},
   "source": [
    "# shap value"
   ]
  },
  {
   "cell_type": "code",
   "execution_count": 27,
   "id": "improving-corporation",
   "metadata": {},
   "outputs": [
    {
     "name": "stderr",
     "output_type": "stream",
     "text": [
      "/Users/ytf1997/miniconda3/envs/ML_learn/lib/python3.6/site-packages/tqdm/auto.py:22: TqdmWarning: IProgress not found. Please update jupyter and ipywidgets. See https://ipywidgets.readthedocs.io/en/stable/user_install.html\n",
      "  from .autonotebook import tqdm as notebook_tqdm\n"
     ]
    }
   ],
   "source": [
    "import shap"
   ]
  },
  {
   "cell_type": "code",
   "execution_count": 28,
   "id": "hispanic-covering",
   "metadata": {},
   "outputs": [],
   "source": [
    "def f(X):\n",
    "    return model.predict(X)[:, -1]"
   ]
  },
  {
   "cell_type": "code",
   "execution_count": 40,
   "id": "documented-rhythm",
   "metadata": {},
   "outputs": [],
   "source": [
    "# explainer = shap.KernelExplainer(f, X_test[:50])"
   ]
  },
  {
   "cell_type": "code",
   "execution_count": 29,
   "id": "capital-mauritius",
   "metadata": {},
   "outputs": [
    {
     "name": "stderr",
     "output_type": "stream",
     "text": [
      "keras is no longer supported, please use tf.keras instead.\n",
      "Your TensorFlow version is newer than 2.4.0 and so graph support has been removed in eager mode and some static graphs may not be supported. See PR #1483 for discussion.\n"
     ]
    }
   ],
   "source": [
    "explainer = shap.DeepExplainer(model, X_test)"
   ]
  },
  {
   "cell_type": "code",
   "execution_count": 30,
   "id": "smaller-saint",
   "metadata": {},
   "outputs": [
    {
     "data": {
      "text/plain": [
       "(50, 92)"
      ]
     },
     "execution_count": 30,
     "metadata": {},
     "output_type": "execute_result"
    }
   ],
   "source": [
    "X_test[:50, -1, :].shape"
   ]
  },
  {
   "cell_type": "code",
   "execution_count": 31,
   "id": "respective-dryer",
   "metadata": {},
   "outputs": [
    {
     "data": {
      "text/plain": [
       "[<KerasTensor: shape=(None, 14, 92) dtype=float32 (created by layer 'input_1')>]"
      ]
     },
     "execution_count": 31,
     "metadata": {},
     "output_type": "execute_result"
    }
   ],
   "source": [
    "model.inputs"
   ]
  },
  {
   "cell_type": "code",
   "execution_count": 32,
   "id": "clean-location",
   "metadata": {},
   "outputs": [],
   "source": [
    "# https://github.com/slundberg/shap/issues/1226 the nonetype shape problem"
   ]
  },
  {
   "cell_type": "code",
   "execution_count": 33,
   "id": "atmospheric-restriction",
   "metadata": {},
   "outputs": [
    {
     "name": "stderr",
     "output_type": "stream",
     "text": [
      "`tf.keras.backend.set_learning_phase` is deprecated and will be removed after 2020-10-11. To update it, simply pass a True/False value to the `training` argument of the `__call__` method of your layer or model.\n"
     ]
    },
    {
     "ename": "StagingError",
     "evalue": "in user code:\n\n    /Users/ytf1997/miniconda3/envs/ML_learn/lib/python3.6/site-packages/shap/explainers/_deep/deep_tf.py:252 grad_graph  *\n        x_grad = tape.gradient(out, shap_rAnD)\n    /Users/ytf1997/miniconda3/envs/ML_learn/lib/python3.6/site-packages/tensorflow/python/eager/backprop.py:1090 gradient  **\n        unconnected_gradients=unconnected_gradients)\n    /Users/ytf1997/miniconda3/envs/ML_learn/lib/python3.6/site-packages/tensorflow/python/eager/imperative_grad.py:77 imperative_grad\n        compat.as_str(unconnected_gradients.value))\n    /Users/ytf1997/miniconda3/envs/ML_learn/lib/python3.6/site-packages/tensorflow/python/eager/backprop.py:148 _gradient_function\n        grad_fn = ops._gradient_registry.lookup(op_name)  # pylint: disable=protected-access\n    /Users/ytf1997/miniconda3/envs/ML_learn/lib/python3.6/site-packages/tensorflow/python/framework/registry.py:100 lookup\n        \"%s registry has no entry for: %s\" % (self._name, name))\n\n    LookupError: gradient registry has no entry for: shap_BatchToSpaceND\n",
     "output_type": "error",
     "traceback": [
      "\u001b[0;31m---------------------------------------------------------------------------\u001b[0m",
      "\u001b[0;31mStagingError\u001b[0m                              Traceback (most recent call last)",
      "\u001b[0;32m<ipython-input-33-693c29e8e742>\u001b[0m in \u001b[0;36m<module>\u001b[0;34m\u001b[0m\n\u001b[0;32m----> 1\u001b[0;31m \u001b[0mshap_values\u001b[0m \u001b[0;34m=\u001b[0m \u001b[0mexplainer\u001b[0m\u001b[0;34m.\u001b[0m\u001b[0mshap_values\u001b[0m\u001b[0;34m(\u001b[0m\u001b[0mX_test\u001b[0m\u001b[0;34m)\u001b[0m\u001b[0;34m\u001b[0m\u001b[0;34m\u001b[0m\u001b[0m\n\u001b[0m",
      "\u001b[0;32m~/miniconda3/envs/ML_learn/lib/python3.6/site-packages/shap/explainers/_deep/__init__.py\u001b[0m in \u001b[0;36mshap_values\u001b[0;34m(self, X, ranked_outputs, output_rank_order, check_additivity)\u001b[0m\n\u001b[1;32m    122\u001b[0m             \u001b[0mwere\u001b[0m \u001b[0mchosen\u001b[0m \u001b[0;32mas\u001b[0m \u001b[0;34m\"top\"\u001b[0m\u001b[0;34m.\u001b[0m\u001b[0;34m\u001b[0m\u001b[0;34m\u001b[0m\u001b[0m\n\u001b[1;32m    123\u001b[0m         \"\"\"\n\u001b[0;32m--> 124\u001b[0;31m         \u001b[0;32mreturn\u001b[0m \u001b[0mself\u001b[0m\u001b[0;34m.\u001b[0m\u001b[0mexplainer\u001b[0m\u001b[0;34m.\u001b[0m\u001b[0mshap_values\u001b[0m\u001b[0;34m(\u001b[0m\u001b[0mX\u001b[0m\u001b[0;34m,\u001b[0m \u001b[0mranked_outputs\u001b[0m\u001b[0;34m,\u001b[0m \u001b[0moutput_rank_order\u001b[0m\u001b[0;34m,\u001b[0m \u001b[0mcheck_additivity\u001b[0m\u001b[0;34m=\u001b[0m\u001b[0mcheck_additivity\u001b[0m\u001b[0;34m)\u001b[0m\u001b[0;34m\u001b[0m\u001b[0;34m\u001b[0m\u001b[0m\n\u001b[0m",
      "\u001b[0;32m~/miniconda3/envs/ML_learn/lib/python3.6/site-packages/shap/explainers/_deep/deep_tf.py\u001b[0m in \u001b[0;36mshap_values\u001b[0;34m(self, X, ranked_outputs, output_rank_order, check_additivity)\u001b[0m\n\u001b[1;32m    310\u001b[0m                 \u001b[0;31m# run attribution computation graph\u001b[0m\u001b[0;34m\u001b[0m\u001b[0;34m\u001b[0m\u001b[0;34m\u001b[0m\u001b[0m\n\u001b[1;32m    311\u001b[0m                 \u001b[0mfeature_ind\u001b[0m \u001b[0;34m=\u001b[0m \u001b[0mmodel_output_ranks\u001b[0m\u001b[0;34m[\u001b[0m\u001b[0mj\u001b[0m\u001b[0;34m,\u001b[0m\u001b[0mi\u001b[0m\u001b[0;34m]\u001b[0m\u001b[0;34m\u001b[0m\u001b[0;34m\u001b[0m\u001b[0m\n\u001b[0;32m--> 312\u001b[0;31m                 \u001b[0msample_phis\u001b[0m \u001b[0;34m=\u001b[0m \u001b[0mself\u001b[0m\u001b[0;34m.\u001b[0m\u001b[0mrun\u001b[0m\u001b[0;34m(\u001b[0m\u001b[0mself\u001b[0m\u001b[0;34m.\u001b[0m\u001b[0mphi_symbolic\u001b[0m\u001b[0;34m(\u001b[0m\u001b[0mfeature_ind\u001b[0m\u001b[0;34m)\u001b[0m\u001b[0;34m,\u001b[0m \u001b[0mself\u001b[0m\u001b[0;34m.\u001b[0m\u001b[0mmodel_inputs\u001b[0m\u001b[0;34m,\u001b[0m \u001b[0mjoint_input\u001b[0m\u001b[0;34m)\u001b[0m\u001b[0;34m\u001b[0m\u001b[0;34m\u001b[0m\u001b[0m\n\u001b[0m\u001b[1;32m    313\u001b[0m \u001b[0;34m\u001b[0m\u001b[0m\n\u001b[1;32m    314\u001b[0m                 \u001b[0;31m# assign the attributions to the right part of the output arrays\u001b[0m\u001b[0;34m\u001b[0m\u001b[0;34m\u001b[0m\u001b[0;34m\u001b[0m\u001b[0m\n",
      "\u001b[0;32m~/miniconda3/envs/ML_learn/lib/python3.6/site-packages/shap/explainers/_deep/deep_tf.py\u001b[0m in \u001b[0;36mrun\u001b[0;34m(self, out, model_inputs, X)\u001b[0m\n\u001b[1;32m    370\u001b[0m \u001b[0;34m\u001b[0m\u001b[0m\n\u001b[1;32m    371\u001b[0m                 \u001b[0;32mreturn\u001b[0m \u001b[0mfinal_out\u001b[0m\u001b[0;34m\u001b[0m\u001b[0;34m\u001b[0m\u001b[0m\n\u001b[0;32m--> 372\u001b[0;31m             \u001b[0;32mreturn\u001b[0m \u001b[0mself\u001b[0m\u001b[0;34m.\u001b[0m\u001b[0mexecute_with_overridden_gradients\u001b[0m\u001b[0;34m(\u001b[0m\u001b[0manon\u001b[0m\u001b[0;34m)\u001b[0m\u001b[0;34m\u001b[0m\u001b[0;34m\u001b[0m\u001b[0m\n\u001b[0m\u001b[1;32m    373\u001b[0m \u001b[0;34m\u001b[0m\u001b[0m\n\u001b[1;32m    374\u001b[0m     \u001b[0;32mdef\u001b[0m \u001b[0mcustom_grad\u001b[0m\u001b[0;34m(\u001b[0m\u001b[0mself\u001b[0m\u001b[0;34m,\u001b[0m \u001b[0mop\u001b[0m\u001b[0;34m,\u001b[0m \u001b[0;34m*\u001b[0m\u001b[0mgrads\u001b[0m\u001b[0;34m)\u001b[0m\u001b[0;34m:\u001b[0m\u001b[0;34m\u001b[0m\u001b[0;34m\u001b[0m\u001b[0m\n",
      "\u001b[0;32m~/miniconda3/envs/ML_learn/lib/python3.6/site-packages/shap/explainers/_deep/deep_tf.py\u001b[0m in \u001b[0;36mexecute_with_overridden_gradients\u001b[0;34m(self, f)\u001b[0m\n\u001b[1;32m    406\u001b[0m         \u001b[0;31m# define the computation graph for the attribution values using a custom gradient-like computation\u001b[0m\u001b[0;34m\u001b[0m\u001b[0;34m\u001b[0m\u001b[0;34m\u001b[0m\u001b[0m\n\u001b[1;32m    407\u001b[0m         \u001b[0;32mtry\u001b[0m\u001b[0;34m:\u001b[0m\u001b[0;34m\u001b[0m\u001b[0;34m\u001b[0m\u001b[0m\n\u001b[0;32m--> 408\u001b[0;31m             \u001b[0mout\u001b[0m \u001b[0;34m=\u001b[0m \u001b[0mf\u001b[0m\u001b[0;34m(\u001b[0m\u001b[0;34m)\u001b[0m\u001b[0;34m\u001b[0m\u001b[0;34m\u001b[0m\u001b[0m\n\u001b[0m\u001b[1;32m    409\u001b[0m         \u001b[0;32mfinally\u001b[0m\u001b[0;34m:\u001b[0m\u001b[0;34m\u001b[0m\u001b[0;34m\u001b[0m\u001b[0m\n\u001b[1;32m    410\u001b[0m             \u001b[0;31m# reinstate the backpropagatable check\u001b[0m\u001b[0;34m\u001b[0m\u001b[0;34m\u001b[0m\u001b[0;34m\u001b[0m\u001b[0m\n",
      "\u001b[0;32m~/miniconda3/envs/ML_learn/lib/python3.6/site-packages/shap/explainers/_deep/deep_tf.py\u001b[0m in \u001b[0;36manon\u001b[0;34m()\u001b[0m\n\u001b[1;32m    363\u001b[0m                     \u001b[0mv\u001b[0m \u001b[0;34m=\u001b[0m \u001b[0mtf\u001b[0m\u001b[0;34m.\u001b[0m\u001b[0mconstant\u001b[0m\u001b[0;34m(\u001b[0m\u001b[0mdata\u001b[0m\u001b[0;34m,\u001b[0m \u001b[0mdtype\u001b[0m\u001b[0;34m=\u001b[0m\u001b[0mself\u001b[0m\u001b[0;34m.\u001b[0m\u001b[0mmodel_inputs\u001b[0m\u001b[0;34m[\u001b[0m\u001b[0mi\u001b[0m\u001b[0;34m]\u001b[0m\u001b[0;34m.\u001b[0m\u001b[0mdtype\u001b[0m\u001b[0;34m)\u001b[0m\u001b[0;34m\u001b[0m\u001b[0;34m\u001b[0m\u001b[0m\n\u001b[1;32m    364\u001b[0m                     \u001b[0minputs\u001b[0m\u001b[0;34m.\u001b[0m\u001b[0mappend\u001b[0m\u001b[0;34m(\u001b[0m\u001b[0mv\u001b[0m\u001b[0;34m)\u001b[0m\u001b[0;34m\u001b[0m\u001b[0;34m\u001b[0m\u001b[0m\n\u001b[0;32m--> 365\u001b[0;31m                 \u001b[0mfinal_out\u001b[0m \u001b[0;34m=\u001b[0m \u001b[0mout\u001b[0m\u001b[0;34m(\u001b[0m\u001b[0minputs\u001b[0m\u001b[0;34m)\u001b[0m\u001b[0;34m\u001b[0m\u001b[0;34m\u001b[0m\u001b[0m\n\u001b[0m\u001b[1;32m    366\u001b[0m                 \u001b[0;32mtry\u001b[0m\u001b[0;34m:\u001b[0m\u001b[0;34m\u001b[0m\u001b[0;34m\u001b[0m\u001b[0m\n\u001b[1;32m    367\u001b[0m                     \u001b[0mtf_execute\u001b[0m\u001b[0;34m.\u001b[0m\u001b[0mrecord_gradient\u001b[0m \u001b[0;34m=\u001b[0m \u001b[0mtf_backprop\u001b[0m\u001b[0;34m.\u001b[0m\u001b[0m_record_gradient\u001b[0m\u001b[0;34m\u001b[0m\u001b[0;34m\u001b[0m\u001b[0m\n",
      "\u001b[0;32m~/miniconda3/envs/ML_learn/lib/python3.6/site-packages/tensorflow/python/eager/def_function.py\u001b[0m in \u001b[0;36m__call__\u001b[0;34m(self, *args, **kwds)\u001b[0m\n\u001b[1;32m    883\u001b[0m \u001b[0;34m\u001b[0m\u001b[0m\n\u001b[1;32m    884\u001b[0m       \u001b[0;32mwith\u001b[0m \u001b[0mOptionalXlaContext\u001b[0m\u001b[0;34m(\u001b[0m\u001b[0mself\u001b[0m\u001b[0;34m.\u001b[0m\u001b[0m_jit_compile\u001b[0m\u001b[0;34m)\u001b[0m\u001b[0;34m:\u001b[0m\u001b[0;34m\u001b[0m\u001b[0;34m\u001b[0m\u001b[0m\n\u001b[0;32m--> 885\u001b[0;31m         \u001b[0mresult\u001b[0m \u001b[0;34m=\u001b[0m \u001b[0mself\u001b[0m\u001b[0;34m.\u001b[0m\u001b[0m_call\u001b[0m\u001b[0;34m(\u001b[0m\u001b[0;34m*\u001b[0m\u001b[0margs\u001b[0m\u001b[0;34m,\u001b[0m \u001b[0;34m**\u001b[0m\u001b[0mkwds\u001b[0m\u001b[0;34m)\u001b[0m\u001b[0;34m\u001b[0m\u001b[0;34m\u001b[0m\u001b[0m\n\u001b[0m\u001b[1;32m    886\u001b[0m \u001b[0;34m\u001b[0m\u001b[0m\n\u001b[1;32m    887\u001b[0m       \u001b[0mnew_tracing_count\u001b[0m \u001b[0;34m=\u001b[0m \u001b[0mself\u001b[0m\u001b[0;34m.\u001b[0m\u001b[0mexperimental_get_tracing_count\u001b[0m\u001b[0;34m(\u001b[0m\u001b[0;34m)\u001b[0m\u001b[0;34m\u001b[0m\u001b[0;34m\u001b[0m\u001b[0m\n",
      "\u001b[0;32m~/miniconda3/envs/ML_learn/lib/python3.6/site-packages/tensorflow/python/eager/def_function.py\u001b[0m in \u001b[0;36m_call\u001b[0;34m(self, *args, **kwds)\u001b[0m\n\u001b[1;32m    931\u001b[0m       \u001b[0;31m# This is the first call of __call__, so we have to initialize.\u001b[0m\u001b[0;34m\u001b[0m\u001b[0;34m\u001b[0m\u001b[0;34m\u001b[0m\u001b[0m\n\u001b[1;32m    932\u001b[0m       \u001b[0minitializers\u001b[0m \u001b[0;34m=\u001b[0m \u001b[0;34m[\u001b[0m\u001b[0;34m]\u001b[0m\u001b[0;34m\u001b[0m\u001b[0;34m\u001b[0m\u001b[0m\n\u001b[0;32m--> 933\u001b[0;31m       \u001b[0mself\u001b[0m\u001b[0;34m.\u001b[0m\u001b[0m_initialize\u001b[0m\u001b[0;34m(\u001b[0m\u001b[0margs\u001b[0m\u001b[0;34m,\u001b[0m \u001b[0mkwds\u001b[0m\u001b[0;34m,\u001b[0m \u001b[0madd_initializers_to\u001b[0m\u001b[0;34m=\u001b[0m\u001b[0minitializers\u001b[0m\u001b[0;34m)\u001b[0m\u001b[0;34m\u001b[0m\u001b[0;34m\u001b[0m\u001b[0m\n\u001b[0m\u001b[1;32m    934\u001b[0m     \u001b[0;32mfinally\u001b[0m\u001b[0;34m:\u001b[0m\u001b[0;34m\u001b[0m\u001b[0;34m\u001b[0m\u001b[0m\n\u001b[1;32m    935\u001b[0m       \u001b[0;31m# At this point we know that the initialization is complete (or less\u001b[0m\u001b[0;34m\u001b[0m\u001b[0;34m\u001b[0m\u001b[0;34m\u001b[0m\u001b[0m\n",
      "\u001b[0;32m~/miniconda3/envs/ML_learn/lib/python3.6/site-packages/tensorflow/python/eager/def_function.py\u001b[0m in \u001b[0;36m_initialize\u001b[0;34m(self, args, kwds, add_initializers_to)\u001b[0m\n\u001b[1;32m    758\u001b[0m     self._concrete_stateful_fn = (\n\u001b[1;32m    759\u001b[0m         self._stateful_fn._get_concrete_function_internal_garbage_collected(  # pylint: disable=protected-access\n\u001b[0;32m--> 760\u001b[0;31m             *args, **kwds))\n\u001b[0m\u001b[1;32m    761\u001b[0m \u001b[0;34m\u001b[0m\u001b[0m\n\u001b[1;32m    762\u001b[0m     \u001b[0;32mdef\u001b[0m \u001b[0minvalid_creator_scope\u001b[0m\u001b[0;34m(\u001b[0m\u001b[0;34m*\u001b[0m\u001b[0munused_args\u001b[0m\u001b[0;34m,\u001b[0m \u001b[0;34m**\u001b[0m\u001b[0munused_kwds\u001b[0m\u001b[0;34m)\u001b[0m\u001b[0;34m:\u001b[0m\u001b[0;34m\u001b[0m\u001b[0;34m\u001b[0m\u001b[0m\n",
      "\u001b[0;32m~/miniconda3/envs/ML_learn/lib/python3.6/site-packages/tensorflow/python/eager/function.py\u001b[0m in \u001b[0;36m_get_concrete_function_internal_garbage_collected\u001b[0;34m(self, *args, **kwargs)\u001b[0m\n\u001b[1;32m   3064\u001b[0m       \u001b[0margs\u001b[0m\u001b[0;34m,\u001b[0m \u001b[0mkwargs\u001b[0m \u001b[0;34m=\u001b[0m \u001b[0;32mNone\u001b[0m\u001b[0;34m,\u001b[0m \u001b[0;32mNone\u001b[0m\u001b[0;34m\u001b[0m\u001b[0;34m\u001b[0m\u001b[0m\n\u001b[1;32m   3065\u001b[0m     \u001b[0;32mwith\u001b[0m \u001b[0mself\u001b[0m\u001b[0;34m.\u001b[0m\u001b[0m_lock\u001b[0m\u001b[0;34m:\u001b[0m\u001b[0;34m\u001b[0m\u001b[0;34m\u001b[0m\u001b[0m\n\u001b[0;32m-> 3066\u001b[0;31m       \u001b[0mgraph_function\u001b[0m\u001b[0;34m,\u001b[0m \u001b[0m_\u001b[0m \u001b[0;34m=\u001b[0m \u001b[0mself\u001b[0m\u001b[0;34m.\u001b[0m\u001b[0m_maybe_define_function\u001b[0m\u001b[0;34m(\u001b[0m\u001b[0margs\u001b[0m\u001b[0;34m,\u001b[0m \u001b[0mkwargs\u001b[0m\u001b[0;34m)\u001b[0m\u001b[0;34m\u001b[0m\u001b[0;34m\u001b[0m\u001b[0m\n\u001b[0m\u001b[1;32m   3067\u001b[0m     \u001b[0;32mreturn\u001b[0m \u001b[0mgraph_function\u001b[0m\u001b[0;34m\u001b[0m\u001b[0;34m\u001b[0m\u001b[0m\n\u001b[1;32m   3068\u001b[0m \u001b[0;34m\u001b[0m\u001b[0m\n",
      "\u001b[0;32m~/miniconda3/envs/ML_learn/lib/python3.6/site-packages/tensorflow/python/eager/function.py\u001b[0m in \u001b[0;36m_maybe_define_function\u001b[0;34m(self, args, kwargs)\u001b[0m\n\u001b[1;32m   3461\u001b[0m \u001b[0;34m\u001b[0m\u001b[0m\n\u001b[1;32m   3462\u001b[0m           \u001b[0mself\u001b[0m\u001b[0;34m.\u001b[0m\u001b[0m_function_cache\u001b[0m\u001b[0;34m.\u001b[0m\u001b[0mmissed\u001b[0m\u001b[0;34m.\u001b[0m\u001b[0madd\u001b[0m\u001b[0;34m(\u001b[0m\u001b[0mcall_context_key\u001b[0m\u001b[0;34m)\u001b[0m\u001b[0;34m\u001b[0m\u001b[0;34m\u001b[0m\u001b[0m\n\u001b[0;32m-> 3463\u001b[0;31m           \u001b[0mgraph_function\u001b[0m \u001b[0;34m=\u001b[0m \u001b[0mself\u001b[0m\u001b[0;34m.\u001b[0m\u001b[0m_create_graph_function\u001b[0m\u001b[0;34m(\u001b[0m\u001b[0margs\u001b[0m\u001b[0;34m,\u001b[0m \u001b[0mkwargs\u001b[0m\u001b[0;34m)\u001b[0m\u001b[0;34m\u001b[0m\u001b[0;34m\u001b[0m\u001b[0m\n\u001b[0m\u001b[1;32m   3464\u001b[0m           \u001b[0mself\u001b[0m\u001b[0;34m.\u001b[0m\u001b[0m_function_cache\u001b[0m\u001b[0;34m.\u001b[0m\u001b[0mprimary\u001b[0m\u001b[0;34m[\u001b[0m\u001b[0mcache_key\u001b[0m\u001b[0;34m]\u001b[0m \u001b[0;34m=\u001b[0m \u001b[0mgraph_function\u001b[0m\u001b[0;34m\u001b[0m\u001b[0;34m\u001b[0m\u001b[0m\n\u001b[1;32m   3465\u001b[0m \u001b[0;34m\u001b[0m\u001b[0m\n",
      "\u001b[0;32m~/miniconda3/envs/ML_learn/lib/python3.6/site-packages/tensorflow/python/eager/function.py\u001b[0m in \u001b[0;36m_create_graph_function\u001b[0;34m(self, args, kwargs, override_flat_arg_shapes)\u001b[0m\n\u001b[1;32m   3306\u001b[0m             \u001b[0marg_names\u001b[0m\u001b[0;34m=\u001b[0m\u001b[0marg_names\u001b[0m\u001b[0;34m,\u001b[0m\u001b[0;34m\u001b[0m\u001b[0;34m\u001b[0m\u001b[0m\n\u001b[1;32m   3307\u001b[0m             \u001b[0moverride_flat_arg_shapes\u001b[0m\u001b[0;34m=\u001b[0m\u001b[0moverride_flat_arg_shapes\u001b[0m\u001b[0;34m,\u001b[0m\u001b[0;34m\u001b[0m\u001b[0;34m\u001b[0m\u001b[0m\n\u001b[0;32m-> 3308\u001b[0;31m             capture_by_value=self._capture_by_value),\n\u001b[0m\u001b[1;32m   3309\u001b[0m         \u001b[0mself\u001b[0m\u001b[0;34m.\u001b[0m\u001b[0m_function_attributes\u001b[0m\u001b[0;34m,\u001b[0m\u001b[0;34m\u001b[0m\u001b[0;34m\u001b[0m\u001b[0m\n\u001b[1;32m   3310\u001b[0m         \u001b[0mfunction_spec\u001b[0m\u001b[0;34m=\u001b[0m\u001b[0mself\u001b[0m\u001b[0;34m.\u001b[0m\u001b[0mfunction_spec\u001b[0m\u001b[0;34m,\u001b[0m\u001b[0;34m\u001b[0m\u001b[0;34m\u001b[0m\u001b[0m\n",
      "\u001b[0;32m~/miniconda3/envs/ML_learn/lib/python3.6/site-packages/tensorflow/python/framework/func_graph.py\u001b[0m in \u001b[0;36mfunc_graph_from_py_func\u001b[0;34m(name, python_func, args, kwargs, signature, func_graph, autograph, autograph_options, add_control_dependencies, arg_names, op_return_value, collections, capture_by_value, override_flat_arg_shapes, acd_record_initial_resource_uses)\u001b[0m\n\u001b[1;32m   1005\u001b[0m         \u001b[0m_\u001b[0m\u001b[0;34m,\u001b[0m \u001b[0moriginal_func\u001b[0m \u001b[0;34m=\u001b[0m \u001b[0mtf_decorator\u001b[0m\u001b[0;34m.\u001b[0m\u001b[0munwrap\u001b[0m\u001b[0;34m(\u001b[0m\u001b[0mpython_func\u001b[0m\u001b[0;34m)\u001b[0m\u001b[0;34m\u001b[0m\u001b[0;34m\u001b[0m\u001b[0m\n\u001b[1;32m   1006\u001b[0m \u001b[0;34m\u001b[0m\u001b[0m\n\u001b[0;32m-> 1007\u001b[0;31m       \u001b[0mfunc_outputs\u001b[0m \u001b[0;34m=\u001b[0m \u001b[0mpython_func\u001b[0m\u001b[0;34m(\u001b[0m\u001b[0;34m*\u001b[0m\u001b[0mfunc_args\u001b[0m\u001b[0;34m,\u001b[0m \u001b[0;34m**\u001b[0m\u001b[0mfunc_kwargs\u001b[0m\u001b[0;34m)\u001b[0m\u001b[0;34m\u001b[0m\u001b[0;34m\u001b[0m\u001b[0m\n\u001b[0m\u001b[1;32m   1008\u001b[0m \u001b[0;34m\u001b[0m\u001b[0m\n\u001b[1;32m   1009\u001b[0m       \u001b[0;31m# invariant: `func_outputs` contains only Tensors, CompositeTensors,\u001b[0m\u001b[0;34m\u001b[0m\u001b[0;34m\u001b[0m\u001b[0;34m\u001b[0m\u001b[0m\n",
      "\u001b[0;32m~/miniconda3/envs/ML_learn/lib/python3.6/site-packages/tensorflow/python/eager/def_function.py\u001b[0m in \u001b[0;36mwrapped_fn\u001b[0;34m(*args, **kwds)\u001b[0m\n\u001b[1;32m    666\u001b[0m         \u001b[0;31m# the function a weak reference to itself to avoid a reference cycle.\u001b[0m\u001b[0;34m\u001b[0m\u001b[0;34m\u001b[0m\u001b[0;34m\u001b[0m\u001b[0m\n\u001b[1;32m    667\u001b[0m         \u001b[0;32mwith\u001b[0m \u001b[0mOptionalXlaContext\u001b[0m\u001b[0;34m(\u001b[0m\u001b[0mcompile_with_xla\u001b[0m\u001b[0;34m)\u001b[0m\u001b[0;34m:\u001b[0m\u001b[0;34m\u001b[0m\u001b[0;34m\u001b[0m\u001b[0m\n\u001b[0;32m--> 668\u001b[0;31m           \u001b[0mout\u001b[0m \u001b[0;34m=\u001b[0m \u001b[0mweak_wrapped_fn\u001b[0m\u001b[0;34m(\u001b[0m\u001b[0;34m)\u001b[0m\u001b[0;34m.\u001b[0m\u001b[0m__wrapped__\u001b[0m\u001b[0;34m(\u001b[0m\u001b[0;34m*\u001b[0m\u001b[0margs\u001b[0m\u001b[0;34m,\u001b[0m \u001b[0;34m**\u001b[0m\u001b[0mkwds\u001b[0m\u001b[0;34m)\u001b[0m\u001b[0;34m\u001b[0m\u001b[0;34m\u001b[0m\u001b[0m\n\u001b[0m\u001b[1;32m    669\u001b[0m         \u001b[0;32mreturn\u001b[0m \u001b[0mout\u001b[0m\u001b[0;34m\u001b[0m\u001b[0;34m\u001b[0m\u001b[0m\n\u001b[1;32m    670\u001b[0m \u001b[0;34m\u001b[0m\u001b[0m\n",
      "\u001b[0;32m~/miniconda3/envs/ML_learn/lib/python3.6/site-packages/tensorflow/python/framework/func_graph.py\u001b[0m in \u001b[0;36mwrapper\u001b[0;34m(*args, **kwargs)\u001b[0m\n\u001b[1;32m    992\u001b[0m           \u001b[0;32mexcept\u001b[0m \u001b[0mException\u001b[0m \u001b[0;32mas\u001b[0m \u001b[0me\u001b[0m\u001b[0;34m:\u001b[0m  \u001b[0;31m# pylint:disable=broad-except\u001b[0m\u001b[0;34m\u001b[0m\u001b[0;34m\u001b[0m\u001b[0m\n\u001b[1;32m    993\u001b[0m             \u001b[0;32mif\u001b[0m \u001b[0mhasattr\u001b[0m\u001b[0;34m(\u001b[0m\u001b[0me\u001b[0m\u001b[0;34m,\u001b[0m \u001b[0;34m\"ag_error_metadata\"\u001b[0m\u001b[0;34m)\u001b[0m\u001b[0;34m:\u001b[0m\u001b[0;34m\u001b[0m\u001b[0;34m\u001b[0m\u001b[0m\n\u001b[0;32m--> 994\u001b[0;31m               \u001b[0;32mraise\u001b[0m \u001b[0me\u001b[0m\u001b[0;34m.\u001b[0m\u001b[0mag_error_metadata\u001b[0m\u001b[0;34m.\u001b[0m\u001b[0mto_exception\u001b[0m\u001b[0;34m(\u001b[0m\u001b[0me\u001b[0m\u001b[0;34m)\u001b[0m\u001b[0;34m\u001b[0m\u001b[0;34m\u001b[0m\u001b[0m\n\u001b[0m\u001b[1;32m    995\u001b[0m             \u001b[0;32melse\u001b[0m\u001b[0;34m:\u001b[0m\u001b[0;34m\u001b[0m\u001b[0;34m\u001b[0m\u001b[0m\n\u001b[1;32m    996\u001b[0m               \u001b[0;32mraise\u001b[0m\u001b[0;34m\u001b[0m\u001b[0;34m\u001b[0m\u001b[0m\n",
      "\u001b[0;31mStagingError\u001b[0m: in user code:\n\n    /Users/ytf1997/miniconda3/envs/ML_learn/lib/python3.6/site-packages/shap/explainers/_deep/deep_tf.py:252 grad_graph  *\n        x_grad = tape.gradient(out, shap_rAnD)\n    /Users/ytf1997/miniconda3/envs/ML_learn/lib/python3.6/site-packages/tensorflow/python/eager/backprop.py:1090 gradient  **\n        unconnected_gradients=unconnected_gradients)\n    /Users/ytf1997/miniconda3/envs/ML_learn/lib/python3.6/site-packages/tensorflow/python/eager/imperative_grad.py:77 imperative_grad\n        compat.as_str(unconnected_gradients.value))\n    /Users/ytf1997/miniconda3/envs/ML_learn/lib/python3.6/site-packages/tensorflow/python/eager/backprop.py:148 _gradient_function\n        grad_fn = ops._gradient_registry.lookup(op_name)  # pylint: disable=protected-access\n    /Users/ytf1997/miniconda3/envs/ML_learn/lib/python3.6/site-packages/tensorflow/python/framework/registry.py:100 lookup\n        \"%s registry has no entry for: %s\" % (self._name, name))\n\n    LookupError: gradient registry has no entry for: shap_BatchToSpaceND\n"
     ]
    }
   ],
   "source": [
    "shap_values = explainer.shap_values(X_test)"
   ]
  },
  {
   "cell_type": "code",
   "execution_count": 46,
   "id": "guilty-chapter",
   "metadata": {},
   "outputs": [
    {
     "data": {
      "text/plain": [
       "(219, 14, 92)"
      ]
     },
     "execution_count": 46,
     "metadata": {},
     "output_type": "execute_result"
    }
   ],
   "source": [
    "X_test.shape"
   ]
  },
  {
   "cell_type": "code",
   "execution_count": 83,
   "id": "female-symphony",
   "metadata": {},
   "outputs": [
    {
     "data": {
      "text/plain": [
       "(2313, 15, 1)"
      ]
     },
     "execution_count": 83,
     "metadata": {},
     "output_type": "execute_result"
    }
   ],
   "source": [
    "input_data_shiftedy.shape"
   ]
  },
  {
   "cell_type": "code",
   "execution_count": null,
   "id": "severe-lobby",
   "metadata": {},
   "outputs": [],
   "source": []
  }
 ],
 "metadata": {
  "kernelspec": {
   "display_name": "Python 3",
   "language": "python",
   "name": "python3"
  },
  "language_info": {
   "codemirror_mode": {
    "name": "ipython",
    "version": 3
   },
   "file_extension": ".py",
   "mimetype": "text/x-python",
   "name": "python",
   "nbconvert_exporter": "python",
   "pygments_lexer": "ipython3",
   "version": "3.6.12"
  }
 },
 "nbformat": 4,
 "nbformat_minor": 5
}
