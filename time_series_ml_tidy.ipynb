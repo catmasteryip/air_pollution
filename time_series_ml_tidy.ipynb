{
 "cells": [
  {
   "cell_type": "code",
   "execution_count": 1,
   "id": "aging-camel",
   "metadata": {},
   "outputs": [],
   "source": [
    "from cond_rnn import ConditionalRNN\n",
    "from tensorflow.keras import Input\n",
    "from tensorflow.keras.layers import LSTM\n",
    "import pandas as pd\n",
    "import math\n",
    "import numpy as np"
   ]
  },
  {
   "cell_type": "code",
   "execution_count": 2,
   "id": "intensive-moscow",
   "metadata": {},
   "outputs": [],
   "source": [
    "# import data\n",
    "import pickle\n",
    "with open(\"datasets2.pickle\", \"rb\") as handle:\n",
    "    input_data_shiftedy = pickle.load(handle)\n",
    "# select only n, daily asthma visits and total, daily total AE visits, \n",
    "# comment out if including air pollution station data\n",
    "first_col = input_data_shiftedy.n / input_data_shiftedy.total * 1000\n",
    "input_data_shiftedy.insert(0, \"prevalence\", first_col)\n",
    "input_data_shiftedy = input_data_shiftedy.drop([\"n\", \"total\", \"y\"], axis = 1)\n",
    "# input_data_shiftedy = pd.concat([input_data_shiftedy.n.reset_index(drop = True), \n",
    "#                         input_data_shiftedy.total.reset_index(drop = True)], axis = 1)"
   ]
  },
  {
   "cell_type": "code",
   "execution_count": 3,
   "id": "separate-gravity",
   "metadata": {},
   "outputs": [
    {
     "data": {
      "text/html": [
       "<div>\n",
       "<style scoped>\n",
       "    .dataframe tbody tr th:only-of-type {\n",
       "        vertical-align: middle;\n",
       "    }\n",
       "\n",
       "    .dataframe tbody tr th {\n",
       "        vertical-align: top;\n",
       "    }\n",
       "\n",
       "    .dataframe thead th {\n",
       "        text-align: right;\n",
       "    }\n",
       "</style>\n",
       "<table border=\"1\" class=\"dataframe\">\n",
       "  <thead>\n",
       "    <tr style=\"text-align: right;\">\n",
       "      <th></th>\n",
       "      <th>prevalence</th>\n",
       "      <th>Mean (deg. C)</th>\n",
       "      <th>Mean Relative Humidity (%)</th>\n",
       "      <th>CO_CENTRAL</th>\n",
       "      <th>CO_MONG KOK</th>\n",
       "      <th>CO_TSUEN WAN</th>\n",
       "      <th>CO_TUEN MUN</th>\n",
       "      <th>CO_TUNG CHUNG</th>\n",
       "      <th>CO_YUEN LONG</th>\n",
       "      <th>FSP_CAUSEWAY BAY</th>\n",
       "      <th>...</th>\n",
       "      <th>SO2_KWAI CHUNG</th>\n",
       "      <th>SO2_KWUN TONG</th>\n",
       "      <th>SO2_MONG KOK</th>\n",
       "      <th>SO2_SHAM SHUI PO</th>\n",
       "      <th>SO2_SHATIN</th>\n",
       "      <th>SO2_TAI PO</th>\n",
       "      <th>SO2_TSUEN WAN</th>\n",
       "      <th>SO2_TUEN MUN</th>\n",
       "      <th>SO2_TUNG CHUNG</th>\n",
       "      <th>SO2_YUEN LONG</th>\n",
       "    </tr>\n",
       "  </thead>\n",
       "  <tbody>\n",
       "    <tr>\n",
       "      <th>0</th>\n",
       "      <td>7.133378</td>\n",
       "      <td>16.0</td>\n",
       "      <td>61</td>\n",
       "      <td>78.791667</td>\n",
       "      <td>96.583333</td>\n",
       "      <td>80.291667</td>\n",
       "      <td>92.875000</td>\n",
       "      <td>62.875000</td>\n",
       "      <td>113.875000</td>\n",
       "      <td>51.916667</td>\n",
       "      <td>...</td>\n",
       "      <td>21.869565</td>\n",
       "      <td>15.913043</td>\n",
       "      <td>14.375000</td>\n",
       "      <td>14.166667</td>\n",
       "      <td>12.347826</td>\n",
       "      <td>7.458333</td>\n",
       "      <td>19.000000</td>\n",
       "      <td>17.458333</td>\n",
       "      <td>19.916667</td>\n",
       "      <td>13.166667</td>\n",
       "    </tr>\n",
       "    <tr>\n",
       "      <th>1</th>\n",
       "      <td>7.358462</td>\n",
       "      <td>15.2</td>\n",
       "      <td>71</td>\n",
       "      <td>91.500000</td>\n",
       "      <td>110.375000</td>\n",
       "      <td>89.416667</td>\n",
       "      <td>91.250000</td>\n",
       "      <td>75.625000</td>\n",
       "      <td>107.125000</td>\n",
       "      <td>67.208333</td>\n",
       "      <td>...</td>\n",
       "      <td>17.500000</td>\n",
       "      <td>16.208333</td>\n",
       "      <td>13.250000</td>\n",
       "      <td>13.541667</td>\n",
       "      <td>14.583333</td>\n",
       "      <td>10.666667</td>\n",
       "      <td>17.791667</td>\n",
       "      <td>17.708333</td>\n",
       "      <td>17.625000</td>\n",
       "      <td>14.666667</td>\n",
       "    </tr>\n",
       "    <tr>\n",
       "      <th>2</th>\n",
       "      <td>5.601793</td>\n",
       "      <td>15.5</td>\n",
       "      <td>65</td>\n",
       "      <td>67.875000</td>\n",
       "      <td>93.541667</td>\n",
       "      <td>72.125000</td>\n",
       "      <td>69.625000</td>\n",
       "      <td>55.333333</td>\n",
       "      <td>95.833333</td>\n",
       "      <td>38.708333</td>\n",
       "      <td>...</td>\n",
       "      <td>13.458333</td>\n",
       "      <td>13.291667</td>\n",
       "      <td>10.583333</td>\n",
       "      <td>10.166667</td>\n",
       "      <td>10.041667</td>\n",
       "      <td>6.750000</td>\n",
       "      <td>17.291667</td>\n",
       "      <td>15.750000</td>\n",
       "      <td>18.583333</td>\n",
       "      <td>10.750000</td>\n",
       "    </tr>\n",
       "    <tr>\n",
       "      <th>3</th>\n",
       "      <td>7.155907</td>\n",
       "      <td>17.3</td>\n",
       "      <td>78</td>\n",
       "      <td>70.791667</td>\n",
       "      <td>100.833333</td>\n",
       "      <td>62.250000</td>\n",
       "      <td>68.583333</td>\n",
       "      <td>48.130435</td>\n",
       "      <td>86.208333</td>\n",
       "      <td>41.333333</td>\n",
       "      <td>...</td>\n",
       "      <td>10.625000</td>\n",
       "      <td>10.708333</td>\n",
       "      <td>8.125000</td>\n",
       "      <td>7.916667</td>\n",
       "      <td>7.375000</td>\n",
       "      <td>5.583333</td>\n",
       "      <td>15.958333</td>\n",
       "      <td>15.500000</td>\n",
       "      <td>19.869565</td>\n",
       "      <td>8.958333</td>\n",
       "    </tr>\n",
       "    <tr>\n",
       "      <th>4</th>\n",
       "      <td>9.012757</td>\n",
       "      <td>19.0</td>\n",
       "      <td>81</td>\n",
       "      <td>83.875000</td>\n",
       "      <td>104.500000</td>\n",
       "      <td>65.625000</td>\n",
       "      <td>68.916667</td>\n",
       "      <td>46.500000</td>\n",
       "      <td>82.833333</td>\n",
       "      <td>42.875000</td>\n",
       "      <td>...</td>\n",
       "      <td>9.166667</td>\n",
       "      <td>4.958333</td>\n",
       "      <td>6.208333</td>\n",
       "      <td>5.958333</td>\n",
       "      <td>6.833333</td>\n",
       "      <td>4.041667</td>\n",
       "      <td>10.166667</td>\n",
       "      <td>21.791667</td>\n",
       "      <td>14.400000</td>\n",
       "      <td>5.166667</td>\n",
       "    </tr>\n",
       "  </tbody>\n",
       "</table>\n",
       "<p>5 rows × 92 columns</p>\n",
       "</div>"
      ],
      "text/plain": [
       "   prevalence  Mean (deg. C)  Mean Relative Humidity (%)  CO_CENTRAL  \\\n",
       "0    7.133378           16.0                          61   78.791667   \n",
       "1    7.358462           15.2                          71   91.500000   \n",
       "2    5.601793           15.5                          65   67.875000   \n",
       "3    7.155907           17.3                          78   70.791667   \n",
       "4    9.012757           19.0                          81   83.875000   \n",
       "\n",
       "   CO_MONG KOK  CO_TSUEN WAN  CO_TUEN MUN  CO_TUNG CHUNG  CO_YUEN LONG  \\\n",
       "0    96.583333     80.291667    92.875000      62.875000    113.875000   \n",
       "1   110.375000     89.416667    91.250000      75.625000    107.125000   \n",
       "2    93.541667     72.125000    69.625000      55.333333     95.833333   \n",
       "3   100.833333     62.250000    68.583333      48.130435     86.208333   \n",
       "4   104.500000     65.625000    68.916667      46.500000     82.833333   \n",
       "\n",
       "   FSP_CAUSEWAY BAY  ...  SO2_KWAI CHUNG  SO2_KWUN TONG  SO2_MONG KOK  \\\n",
       "0         51.916667  ...       21.869565      15.913043     14.375000   \n",
       "1         67.208333  ...       17.500000      16.208333     13.250000   \n",
       "2         38.708333  ...       13.458333      13.291667     10.583333   \n",
       "3         41.333333  ...       10.625000      10.708333      8.125000   \n",
       "4         42.875000  ...        9.166667       4.958333      6.208333   \n",
       "\n",
       "   SO2_SHAM SHUI PO  SO2_SHATIN  SO2_TAI PO  SO2_TSUEN WAN  SO2_TUEN MUN  \\\n",
       "0         14.166667   12.347826    7.458333      19.000000     17.458333   \n",
       "1         13.541667   14.583333   10.666667      17.791667     17.708333   \n",
       "2         10.166667   10.041667    6.750000      17.291667     15.750000   \n",
       "3          7.916667    7.375000    5.583333      15.958333     15.500000   \n",
       "4          5.958333    6.833333    4.041667      10.166667     21.791667   \n",
       "\n",
       "   SO2_TUNG CHUNG  SO2_YUEN LONG  \n",
       "0       19.916667      13.166667  \n",
       "1       17.625000      14.666667  \n",
       "2       18.583333      10.750000  \n",
       "3       19.869565       8.958333  \n",
       "4       14.400000       5.166667  \n",
       "\n",
       "[5 rows x 92 columns]"
      ]
     },
     "execution_count": 3,
     "metadata": {},
     "output_type": "execute_result"
    }
   ],
   "source": [
    "input_data_shiftedy.head()"
   ]
  },
  {
   "cell_type": "code",
   "execution_count": 376,
   "id": "parliamentary-kelly",
   "metadata": {},
   "outputs": [],
   "source": [
    "asthma_weekly = pd.read_excel(\"asthma.weekly.severe.xlsx\",\n",
    "                            engine = \"openpyxl\")"
   ]
  },
  {
   "cell_type": "code",
   "execution_count": 377,
   "id": "intense-little",
   "metadata": {},
   "outputs": [],
   "source": [
    "asthma_weekly = asthma_weekly.sort_values(by = [\"year\", \"week\"])"
   ]
  },
  {
   "cell_type": "code",
   "execution_count": 378,
   "id": "played-laugh",
   "metadata": {},
   "outputs": [],
   "source": [
    "asthma_weekly = asthma_weekly[asthma_weekly.groupby(\"year\").cumcount(ascending=False) > 0]"
   ]
  },
  {
   "cell_type": "code",
   "execution_count": 379,
   "id": "shared-phenomenon",
   "metadata": {},
   "outputs": [
    {
     "data": {
      "text/plain": [
       "<matplotlib.collections.PathCollection at 0x7f9e2e84fe10>"
      ]
     },
     "execution_count": 379,
     "metadata": {},
     "output_type": "execute_result"
    },
    {
     "data": {
      "image/png": "[encoded data removed]",
      "text/plain": [
       "<Figure size 432x288 with 1 Axes>"
      ]
     },
     "metadata": {
      "needs_background": "light"
     },
     "output_type": "display_data"
    }
   ],
   "source": [
    "plt.scatter(asthma_weekly.total, asthma_weekly.n)"
   ]
  },
  {
   "cell_type": "code",
   "execution_count": 380,
   "id": "decimal-hughes",
   "metadata": {},
   "outputs": [],
   "source": [
    "input_data_shiftedy = asthma_weekly\n",
    "input_data_shiftedy = pd.concat([input_data_shiftedy.n.reset_index(drop = True), \n",
    "                        input_data_shiftedy.total.reset_index(drop = True)], axis = 1)"
   ]
  },
  {
   "cell_type": "code",
   "execution_count": 5,
   "id": "adopted-stability",
   "metadata": {},
   "outputs": [
    {
     "data": {
      "text/html": [
       "<div>\n",
       "<style scoped>\n",
       "    .dataframe tbody tr th:only-of-type {\n",
       "        vertical-align: middle;\n",
       "    }\n",
       "\n",
       "    .dataframe tbody tr th {\n",
       "        vertical-align: top;\n",
       "    }\n",
       "\n",
       "    .dataframe thead th {\n",
       "        text-align: right;\n",
       "    }\n",
       "</style>\n",
       "<table border=\"1\" class=\"dataframe\">\n",
       "  <thead>\n",
       "    <tr style=\"text-align: right;\">\n",
       "      <th></th>\n",
       "      <th>prevalence</th>\n",
       "      <th>Mean (deg. C)</th>\n",
       "      <th>Mean Relative Humidity (%)</th>\n",
       "      <th>CO_CENTRAL</th>\n",
       "      <th>CO_MONG KOK</th>\n",
       "      <th>CO_TSUEN WAN</th>\n",
       "      <th>CO_TUEN MUN</th>\n",
       "      <th>CO_TUNG CHUNG</th>\n",
       "      <th>CO_YUEN LONG</th>\n",
       "      <th>FSP_CAUSEWAY BAY</th>\n",
       "      <th>...</th>\n",
       "      <th>SO2_KWAI CHUNG</th>\n",
       "      <th>SO2_KWUN TONG</th>\n",
       "      <th>SO2_MONG KOK</th>\n",
       "      <th>SO2_SHAM SHUI PO</th>\n",
       "      <th>SO2_SHATIN</th>\n",
       "      <th>SO2_TAI PO</th>\n",
       "      <th>SO2_TSUEN WAN</th>\n",
       "      <th>SO2_TUEN MUN</th>\n",
       "      <th>SO2_TUNG CHUNG</th>\n",
       "      <th>SO2_YUEN LONG</th>\n",
       "    </tr>\n",
       "  </thead>\n",
       "  <tbody>\n",
       "    <tr>\n",
       "      <th>0</th>\n",
       "      <td>7.133378</td>\n",
       "      <td>16.0</td>\n",
       "      <td>61</td>\n",
       "      <td>78.791667</td>\n",
       "      <td>96.583333</td>\n",
       "      <td>80.291667</td>\n",
       "      <td>92.875000</td>\n",
       "      <td>62.875000</td>\n",
       "      <td>113.875000</td>\n",
       "      <td>51.916667</td>\n",
       "      <td>...</td>\n",
       "      <td>21.869565</td>\n",
       "      <td>15.913043</td>\n",
       "      <td>14.375000</td>\n",
       "      <td>14.166667</td>\n",
       "      <td>12.347826</td>\n",
       "      <td>7.458333</td>\n",
       "      <td>19.000000</td>\n",
       "      <td>17.458333</td>\n",
       "      <td>19.916667</td>\n",
       "      <td>13.166667</td>\n",
       "    </tr>\n",
       "    <tr>\n",
       "      <th>1</th>\n",
       "      <td>7.358462</td>\n",
       "      <td>15.2</td>\n",
       "      <td>71</td>\n",
       "      <td>91.500000</td>\n",
       "      <td>110.375000</td>\n",
       "      <td>89.416667</td>\n",
       "      <td>91.250000</td>\n",
       "      <td>75.625000</td>\n",
       "      <td>107.125000</td>\n",
       "      <td>67.208333</td>\n",
       "      <td>...</td>\n",
       "      <td>17.500000</td>\n",
       "      <td>16.208333</td>\n",
       "      <td>13.250000</td>\n",
       "      <td>13.541667</td>\n",
       "      <td>14.583333</td>\n",
       "      <td>10.666667</td>\n",
       "      <td>17.791667</td>\n",
       "      <td>17.708333</td>\n",
       "      <td>17.625000</td>\n",
       "      <td>14.666667</td>\n",
       "    </tr>\n",
       "    <tr>\n",
       "      <th>2</th>\n",
       "      <td>5.601793</td>\n",
       "      <td>15.5</td>\n",
       "      <td>65</td>\n",
       "      <td>67.875000</td>\n",
       "      <td>93.541667</td>\n",
       "      <td>72.125000</td>\n",
       "      <td>69.625000</td>\n",
       "      <td>55.333333</td>\n",
       "      <td>95.833333</td>\n",
       "      <td>38.708333</td>\n",
       "      <td>...</td>\n",
       "      <td>13.458333</td>\n",
       "      <td>13.291667</td>\n",
       "      <td>10.583333</td>\n",
       "      <td>10.166667</td>\n",
       "      <td>10.041667</td>\n",
       "      <td>6.750000</td>\n",
       "      <td>17.291667</td>\n",
       "      <td>15.750000</td>\n",
       "      <td>18.583333</td>\n",
       "      <td>10.750000</td>\n",
       "    </tr>\n",
       "    <tr>\n",
       "      <th>3</th>\n",
       "      <td>7.155907</td>\n",
       "      <td>17.3</td>\n",
       "      <td>78</td>\n",
       "      <td>70.791667</td>\n",
       "      <td>100.833333</td>\n",
       "      <td>62.250000</td>\n",
       "      <td>68.583333</td>\n",
       "      <td>48.130435</td>\n",
       "      <td>86.208333</td>\n",
       "      <td>41.333333</td>\n",
       "      <td>...</td>\n",
       "      <td>10.625000</td>\n",
       "      <td>10.708333</td>\n",
       "      <td>8.125000</td>\n",
       "      <td>7.916667</td>\n",
       "      <td>7.375000</td>\n",
       "      <td>5.583333</td>\n",
       "      <td>15.958333</td>\n",
       "      <td>15.500000</td>\n",
       "      <td>19.869565</td>\n",
       "      <td>8.958333</td>\n",
       "    </tr>\n",
       "    <tr>\n",
       "      <th>4</th>\n",
       "      <td>9.012757</td>\n",
       "      <td>19.0</td>\n",
       "      <td>81</td>\n",
       "      <td>83.875000</td>\n",
       "      <td>104.500000</td>\n",
       "      <td>65.625000</td>\n",
       "      <td>68.916667</td>\n",
       "      <td>46.500000</td>\n",
       "      <td>82.833333</td>\n",
       "      <td>42.875000</td>\n",
       "      <td>...</td>\n",
       "      <td>9.166667</td>\n",
       "      <td>4.958333</td>\n",
       "      <td>6.208333</td>\n",
       "      <td>5.958333</td>\n",
       "      <td>6.833333</td>\n",
       "      <td>4.041667</td>\n",
       "      <td>10.166667</td>\n",
       "      <td>21.791667</td>\n",
       "      <td>14.400000</td>\n",
       "      <td>5.166667</td>\n",
       "    </tr>\n",
       "  </tbody>\n",
       "</table>\n",
       "<p>5 rows × 92 columns</p>\n",
       "</div>"
      ],
      "text/plain": [
       "   prevalence  Mean (deg. C)  Mean Relative Humidity (%)  CO_CENTRAL  \\\n",
       "0    7.133378           16.0                          61   78.791667   \n",
       "1    7.358462           15.2                          71   91.500000   \n",
       "2    5.601793           15.5                          65   67.875000   \n",
       "3    7.155907           17.3                          78   70.791667   \n",
       "4    9.012757           19.0                          81   83.875000   \n",
       "\n",
       "   CO_MONG KOK  CO_TSUEN WAN  CO_TUEN MUN  CO_TUNG CHUNG  CO_YUEN LONG  \\\n",
       "0    96.583333     80.291667    92.875000      62.875000    113.875000   \n",
       "1   110.375000     89.416667    91.250000      75.625000    107.125000   \n",
       "2    93.541667     72.125000    69.625000      55.333333     95.833333   \n",
       "3   100.833333     62.250000    68.583333      48.130435     86.208333   \n",
       "4   104.500000     65.625000    68.916667      46.500000     82.833333   \n",
       "\n",
       "   FSP_CAUSEWAY BAY  ...  SO2_KWAI CHUNG  SO2_KWUN TONG  SO2_MONG KOK  \\\n",
       "0         51.916667  ...       21.869565      15.913043     14.375000   \n",
       "1         67.208333  ...       17.500000      16.208333     13.250000   \n",
       "2         38.708333  ...       13.458333      13.291667     10.583333   \n",
       "3         41.333333  ...       10.625000      10.708333      8.125000   \n",
       "4         42.875000  ...        9.166667       4.958333      6.208333   \n",
       "\n",
       "   SO2_SHAM SHUI PO  SO2_SHATIN  SO2_TAI PO  SO2_TSUEN WAN  SO2_TUEN MUN  \\\n",
       "0         14.166667   12.347826    7.458333      19.000000     17.458333   \n",
       "1         13.541667   14.583333   10.666667      17.791667     17.708333   \n",
       "2         10.166667   10.041667    6.750000      17.291667     15.750000   \n",
       "3          7.916667    7.375000    5.583333      15.958333     15.500000   \n",
       "4          5.958333    6.833333    4.041667      10.166667     21.791667   \n",
       "\n",
       "   SO2_TUNG CHUNG  SO2_YUEN LONG  \n",
       "0       19.916667      13.166667  \n",
       "1       17.625000      14.666667  \n",
       "2       18.583333      10.750000  \n",
       "3       19.869565       8.958333  \n",
       "4       14.400000       5.166667  \n",
       "\n",
       "[5 rows x 92 columns]"
      ]
     },
     "execution_count": 5,
     "metadata": {},
     "output_type": "execute_result"
    }
   ],
   "source": [
    "input_data_shiftedy.head()"
   ]
  },
  {
   "cell_type": "code",
   "execution_count": 4,
   "id": "opposite-military",
   "metadata": {},
   "outputs": [
    {
     "data": {
      "text/plain": [
       "1861"
      ]
     },
     "execution_count": 4,
     "metadata": {},
     "output_type": "execute_result"
    }
   ],
   "source": [
    "int(len(input_data_shiftedy) * .8)"
   ]
  },
  {
   "cell_type": "code",
   "execution_count": 6,
   "id": "continental-german",
   "metadata": {},
   "outputs": [],
   "source": [
    "# scaling fit with train-test split consideration to avoid data leakage\n",
    "# may need verification\n",
    "from sklearn.preprocessing import StandardScaler, Normalizer\n",
    "\n",
    "# number of time steps for sequence learning\n",
    "n_steps_x = 14\n",
    "# number of time steps for sequence prediction\n",
    "n_steps_y = 7\n",
    "\n",
    "split_at = int(len(input_data_shiftedy) * .8)\n",
    "val_split_at = int(len(input_data_shiftedy) * .9)\n",
    "\n",
    "scaler = StandardScaler()\n",
    "# fit by training set only\n",
    "input_data_shiftedy.iloc[:(split_at + n_steps_x + n_steps_y),1:] = scaler.fit_transform(\n",
    "    input_data_shiftedy.iloc[:(split_at + n_steps_x + n_steps_y),1:])\n",
    "# only transform valid and testing sets\n",
    "input_data_shiftedy.iloc[(split_at + n_steps_x + n_steps_y):,1:] = scaler.transform(\n",
    "    input_data_shiftedy.iloc[(split_at + n_steps_x + n_steps_y):,1:])"
   ]
  },
  {
   "cell_type": "code",
   "execution_count": 7,
   "id": "dressed-collectible",
   "metadata": {},
   "outputs": [],
   "source": [
    "def reshape_sliding1(X, num_steps_x = 2, num_steps_y = 2):\n",
    "    X = pd.DataFrame(X)\n",
    "    X_transformed = [np.array(X.shift(i)) for i in range(num_steps_x + num_steps_y)]\n",
    "    X_transformed = np.dstack(X_transformed)\n",
    "    \n",
    "    # swap time steps and dimensionality axes\n",
    "    X_transformed = np.swapaxes(X_transformed, 1, 2)\n",
    "    # flip time steps axis\n",
    "    X_transformed = np.flip(X_transformed, 1)\n",
    "    X_transformed = X_transformed[(num_steps_x+num_steps_y - 1):]\n",
    "    return X_transformed"
   ]
  },
  {
   "cell_type": "code",
   "execution_count": 8,
   "id": "transsexual-branch",
   "metadata": {},
   "outputs": [],
   "source": [
    "\n",
    "input_data_shiftedy = reshape_sliding1(input_data_shiftedy, \n",
    "                                       num_steps_x = n_steps_x,\n",
    "                                      num_steps_y = n_steps_y)"
   ]
  },
  {
   "cell_type": "code",
   "execution_count": 9,
   "id": "packed-works",
   "metadata": {},
   "outputs": [],
   "source": [
    "# train_test_split \n",
    "\n",
    "X_train = input_data_shiftedy[:split_at, :n_steps_x, :]\n",
    "X_valid = input_data_shiftedy[split_at:val_split_at, :n_steps_x, :]\n",
    "X_test = input_data_shiftedy[val_split_at:, :n_steps_x, :]\n",
    "\n",
    "Y = np.empty((input_data_shiftedy.shape[0], n_steps_x, n_steps_y))\n",
    "for step_ahead in range(1, n_steps_y + 1):\n",
    "    Y[..., step_ahead - 1] = input_data_shiftedy[..., step_ahead:step_ahead + n_steps_x, 0]\n",
    "Y_train = Y[:split_at]\n",
    "Y_valid = Y[split_at:val_split_at]\n",
    "Y_test = Y[val_split_at:]"
   ]
  },
  {
   "cell_type": "code",
   "execution_count": 10,
   "id": "friendly-might",
   "metadata": {},
   "outputs": [],
   "source": [
    "# # optional\n",
    "# X_train = X_train.reshape(X_train.shape[0], X_train.shape[1], 1)\n",
    "# X_valid = X_valid.reshape(X_valid.shape[0], X_valid.shape[1], 1)\n",
    "# X_test = X_test.reshape(X_test.shape[0], X_test.shape[1], 1)"
   ]
  },
  {
   "cell_type": "code",
   "execution_count": 11,
   "id": "internal-daniel",
   "metadata": {},
   "outputs": [
    {
     "name": "stdout",
     "output_type": "stream",
     "text": [
      "(1861, 14, 92) (1861, 14, 7) (233, 14, 92) (233, 14, 7)\n"
     ]
    }
   ],
   "source": [
    "# checking dimensionality\n",
    "print(X_train.shape, Y_train.shape, X_valid.shape, Y_valid.shape)\n",
    "assert X_train.shape[1:] == X_valid.shape[1:]\n",
    "assert Y_train.shape[1:] == Y_valid.shape[1:]"
   ]
  },
  {
   "cell_type": "markdown",
   "id": "desperate-fever",
   "metadata": {},
   "source": [
    "# modelling\n",
    "1. as of 23rd aug 2022: rnn loss nan problem <br>\n",
    "possible remedies: normalize data, regularization, increase batch size <br>\n",
    "https://datascience.stackexchange.com/questions/68331/keras-sequential-model-returns-loss-nan <br>\n",
    "2. as of 24th aug 2022: try to add overall AE visit to include hospital avoidance effect\n",
    "3. as of 25th aug 2022: corrected reshaping problem, performance is still shit, try remove air pollution, try larger learning rate\n",
    "4. as of 26th aug 2022: try seq2seq model, it worked \n",
    "5. from the results it seems most contributing factor is total AE trend \n"
   ]
  },
  {
   "cell_type": "code",
   "execution_count": 12,
   "id": "interpreted-alliance",
   "metadata": {},
   "outputs": [],
   "source": [
    "from tensorflow import keras\n",
    "import tensorflow as tf"
   ]
  },
  {
   "cell_type": "code",
   "execution_count": 13,
   "id": "elect-parker",
   "metadata": {},
   "outputs": [],
   "source": [
    "optimizer = keras.optimizers.Adam(clipvalue = 1)"
   ]
  },
  {
   "cell_type": "code",
   "execution_count": 14,
   "id": "dominican-quarter",
   "metadata": {},
   "outputs": [],
   "source": [
    "callback = keras.callbacks.EarlyStopping(monitor='val_loss', patience=3)"
   ]
  },
  {
   "cell_type": "code",
   "execution_count": 57,
   "id": "overhead-jumping",
   "metadata": {},
   "outputs": [],
   "source": [
    "# simplified wavenet\n",
    "def last_time_step_mse(Y_true, Y_pred):\n",
    "    return keras.metrics.mean_squared_error(Y_true[:, -1], Y_pred[:, -1])\n",
    "\n",
    "model = keras.models.Sequential()\n",
    "model.add(keras.layers.InputLayer(input_shape = [None, X_train.shape[2]]))\n",
    "for rate in (1, 2, 4, 8, 16) * 2:\n",
    "    model.add(keras.layers.Conv1D(filters = 100, kernel_size = 2, padding = \"causal\",\n",
    "                                 activation = \"relu\", dilation_rate = rate))\n",
    "model.add(keras.layers.Conv1D(filters = Y_train.shape[2], kernel_size = 1))\n",
    "model.compile(loss = \"mse\", optimizer = optimizer, metrics = [last_time_step_mse])"
   ]
  },
  {
   "cell_type": "code",
   "execution_count": 58,
   "id": "undefined-mainstream",
   "metadata": {},
   "outputs": [
    {
     "name": "stdout",
     "output_type": "stream",
     "text": [
      "Epoch 1/30\n",
      "59/59 [==============================] - 3s 21ms/step - loss: 6.7003 - last_time_step_mse: 9.1828 - val_loss: 1.4291 - val_last_time_step_mse: 1.2083\n",
      "Epoch 2/30\n",
      "59/59 [==============================] - 1s 18ms/step - loss: 1.3432 - last_time_step_mse: 1.2952 - val_loss: 1.8626 - val_last_time_step_mse: 1.6269\n",
      "Epoch 3/30\n",
      "59/59 [==============================] - 1s 16ms/step - loss: 1.3087 - last_time_step_mse: 1.2627 - val_loss: 1.5947 - val_last_time_step_mse: 1.3856\n",
      "Epoch 4/30\n",
      "59/59 [==============================] - 1s 15ms/step - loss: 1.2723 - last_time_step_mse: 1.2261 - val_loss: 1.7652 - val_last_time_step_mse: 1.5119\n"
     ]
    }
   ],
   "source": [
    "history = model.fit(X_train, Y_train, epochs=30,\n",
    "                    validation_data=(X_valid, Y_valid),\n",
    "                    callbacks = [callback]\n",
    "                   )"
   ]
  },
  {
   "cell_type": "code",
   "execution_count": 36,
   "id": "mature-category",
   "metadata": {},
   "outputs": [],
   "source": [
    "# inference \n",
    "import matplotlib.pyplot as plt"
   ]
  },
  {
   "cell_type": "code",
   "execution_count": 59,
   "id": "tracked-accessory",
   "metadata": {},
   "outputs": [],
   "source": [
    "pred = model.predict(X_test)"
   ]
  },
  {
   "cell_type": "code",
   "execution_count": 60,
   "id": "remarkable-trace",
   "metadata": {},
   "outputs": [],
   "source": [
    "assert pred.shape == Y_test.shape"
   ]
  },
  {
   "cell_type": "code",
   "execution_count": 121,
   "id": "yellow-blair",
   "metadata": {},
   "outputs": [
    {
     "name": "stdout",
     "output_type": "stream",
     "text": [
      "(213, 14, 7)\n"
     ]
    }
   ],
   "source": [
    "print(pred.shape)"
   ]
  },
  {
   "cell_type": "code",
   "execution_count": 62,
   "id": "peripheral-birth",
   "metadata": {},
   "outputs": [
    {
     "data": {
      "text/plain": [
       "[<matplotlib.lines.Line2D at 0x7f9e5fbc3710>]"
      ]
     },
     "execution_count": 62,
     "metadata": {},
     "output_type": "execute_result"
    },
    {
     "data": {
      "image/png": "[encoded data removed]",
      "text/plain": [
       "<Figure size 432x288 with 1 Axes>"
      ]
     },
     "metadata": {
      "needs_background": "light"
     },
     "output_type": "display_data"
    }
   ],
   "source": [
    "plt.plot(np.double(pred[:, -1, -1]).flatten(), alpha = .5)\n",
    "plt.plot(np.double(Y_test[:, -1, -1]).flatten(), alpha = .5)"
   ]
  },
  {
   "cell_type": "code",
   "execution_count": 63,
   "id": "electoral-detroit",
   "metadata": {},
   "outputs": [
    {
     "data": {
      "text/plain": [
       "<tf.Tensor: shape=(), dtype=float32, numpy=0.9120207>"
      ]
     },
     "execution_count": 63,
     "metadata": {},
     "output_type": "execute_result"
    }
   ],
   "source": [
    "def last_time_step_mse_total(Y_true, Y_pred):\n",
    "    return keras.metrics.mean_squared_error(Y_true[:, -1, -1], Y_pred[:, -1, -1])\n",
    "last_time_step_mse_total(Y_test, pred)"
   ]
  },
  {
   "cell_type": "code",
   "execution_count": 23,
   "id": "intended-musical",
   "metadata": {},
   "outputs": [],
   "source": [
    "pred = model.predict(X_valid)"
   ]
  },
  {
   "cell_type": "code",
   "execution_count": 24,
   "id": "collectible-nightmare",
   "metadata": {},
   "outputs": [
    {
     "data": {
      "text/plain": [
       "[<matplotlib.lines.Line2D at 0x7f9e6525f358>]"
      ]
     },
     "execution_count": 24,
     "metadata": {},
     "output_type": "execute_result"
    },
    {
     "data": {
      "image/png": "[encoded data removed]",
      "text/plain": [
       "<Figure size 432x288 with 1 Axes>"
      ]
     },
     "metadata": {
      "needs_background": "light"
     },
     "output_type": "display_data"
    }
   ],
   "source": [
    "plt.plot(np.double(pred[:, 0, -1]).flatten(), alpha = .5)\n",
    "plt.plot(np.double(Y_valid[:, 0, -1]).flatten(), alpha = .5)"
   ]
  },
  {
   "cell_type": "code",
   "execution_count": 107,
   "id": "adjusted-opening",
   "metadata": {},
   "outputs": [
    {
     "data": {
      "text/plain": [
       "(213, 14, 7)"
      ]
     },
     "execution_count": 107,
     "metadata": {},
     "output_type": "execute_result"
    }
   ],
   "source": [
    "pred.shape"
   ]
  },
  {
   "cell_type": "markdown",
   "id": "charged-literacy",
   "metadata": {},
   "source": [
    "# shap value"
   ]
  },
  {
   "cell_type": "code",
   "execution_count": 111,
   "id": "mounted-suspension",
   "metadata": {},
   "outputs": [],
   "source": [
    "import shap"
   ]
  },
  {
   "cell_type": "code",
   "execution_count": 112,
   "id": "hispanic-latter",
   "metadata": {},
   "outputs": [],
   "source": [
    "def f(X):\n",
    "    return model.predict(X)[:, -1, -1]"
   ]
  },
  {
   "cell_type": "code",
   "execution_count": 115,
   "id": "likely-comment",
   "metadata": {},
   "outputs": [],
   "source": [
    "explainer = shap.KernelExplainer(f, X_test[:50])"
   ]
  },
  {
   "cell_type": "code",
   "execution_count": 119,
   "id": "representative-exclusion",
   "metadata": {},
   "outputs": [
    {
     "ename": "AssertionError",
     "evalue": "The model output must be a vector or a single value!",
     "output_type": "error",
     "traceback": [
      "\u001b[0;31m---------------------------------------------------------------------------\u001b[0m",
      "\u001b[0;31mAssertionError\u001b[0m                            Traceback (most recent call last)",
      "\u001b[0;32m<ipython-input-119-09c67884b883>\u001b[0m in \u001b[0;36m<module>\u001b[0;34m\u001b[0m\n\u001b[0;32m----> 1\u001b[0;31m \u001b[0mexplainer\u001b[0m \u001b[0;34m=\u001b[0m \u001b[0mshap\u001b[0m\u001b[0;34m.\u001b[0m\u001b[0mDeepExplainer\u001b[0m\u001b[0;34m(\u001b[0m\u001b[0mmodel\u001b[0m\u001b[0;34m,\u001b[0m \u001b[0mX_test\u001b[0m\u001b[0;34m[\u001b[0m\u001b[0;34m:\u001b[0m\u001b[0;36m50\u001b[0m\u001b[0;34m]\u001b[0m\u001b[0;34m)\u001b[0m\u001b[0;34m\u001b[0m\u001b[0;34m\u001b[0m\u001b[0m\n\u001b[0m",
      "\u001b[0;32m~/miniconda3/envs/ML_learn/lib/python3.6/site-packages/shap/explainers/_deep/__init__.py\u001b[0m in \u001b[0;36m__init__\u001b[0;34m(self, model, data, session, learning_phase_flags)\u001b[0m\n\u001b[1;32m     82\u001b[0m \u001b[0;34m\u001b[0m\u001b[0m\n\u001b[1;32m     83\u001b[0m         \u001b[0;32mif\u001b[0m \u001b[0mframework\u001b[0m \u001b[0;34m==\u001b[0m \u001b[0;34m'tensorflow'\u001b[0m\u001b[0;34m:\u001b[0m\u001b[0;34m\u001b[0m\u001b[0;34m\u001b[0m\u001b[0m\n\u001b[0;32m---> 84\u001b[0;31m             \u001b[0mself\u001b[0m\u001b[0;34m.\u001b[0m\u001b[0mexplainer\u001b[0m \u001b[0;34m=\u001b[0m \u001b[0mTFDeep\u001b[0m\u001b[0;34m(\u001b[0m\u001b[0mmodel\u001b[0m\u001b[0;34m,\u001b[0m \u001b[0mdata\u001b[0m\u001b[0;34m,\u001b[0m \u001b[0msession\u001b[0m\u001b[0;34m,\u001b[0m \u001b[0mlearning_phase_flags\u001b[0m\u001b[0;34m)\u001b[0m\u001b[0;34m\u001b[0m\u001b[0;34m\u001b[0m\u001b[0m\n\u001b[0m\u001b[1;32m     85\u001b[0m         \u001b[0;32melif\u001b[0m \u001b[0mframework\u001b[0m \u001b[0;34m==\u001b[0m \u001b[0;34m'pytorch'\u001b[0m\u001b[0;34m:\u001b[0m\u001b[0;34m\u001b[0m\u001b[0;34m\u001b[0m\u001b[0m\n\u001b[1;32m     86\u001b[0m             \u001b[0mself\u001b[0m\u001b[0;34m.\u001b[0m\u001b[0mexplainer\u001b[0m \u001b[0;34m=\u001b[0m \u001b[0mPyTorchDeep\u001b[0m\u001b[0;34m(\u001b[0m\u001b[0mmodel\u001b[0m\u001b[0;34m,\u001b[0m \u001b[0mdata\u001b[0m\u001b[0;34m)\u001b[0m\u001b[0;34m\u001b[0m\u001b[0;34m\u001b[0m\u001b[0m\n",
      "\u001b[0;32m~/miniconda3/envs/ML_learn/lib/python3.6/site-packages/shap/explainers/_deep/deep_tf.py\u001b[0m in \u001b[0;36m__init__\u001b[0;34m(self, model, data, session, learning_phase_flags)\u001b[0m\n\u001b[1;32m    104\u001b[0m         \u001b[0mself\u001b[0m\u001b[0;34m.\u001b[0m\u001b[0mmodel_output\u001b[0m \u001b[0;34m=\u001b[0m \u001b[0m_get_model_output\u001b[0m\u001b[0;34m(\u001b[0m\u001b[0mmodel\u001b[0m\u001b[0;34m)\u001b[0m\u001b[0;34m\u001b[0m\u001b[0;34m\u001b[0m\u001b[0m\n\u001b[1;32m    105\u001b[0m         \u001b[0;32massert\u001b[0m \u001b[0mtype\u001b[0m\u001b[0;34m(\u001b[0m\u001b[0mself\u001b[0m\u001b[0;34m.\u001b[0m\u001b[0mmodel_output\u001b[0m\u001b[0;34m)\u001b[0m \u001b[0;34m!=\u001b[0m \u001b[0mlist\u001b[0m\u001b[0;34m,\u001b[0m \u001b[0;34m\"The model output to be explained must be a single tensor!\"\u001b[0m\u001b[0;34m\u001b[0m\u001b[0;34m\u001b[0m\u001b[0m\n\u001b[0;32m--> 106\u001b[0;31m         \u001b[0;32massert\u001b[0m \u001b[0mlen\u001b[0m\u001b[0;34m(\u001b[0m\u001b[0mself\u001b[0m\u001b[0;34m.\u001b[0m\u001b[0mmodel_output\u001b[0m\u001b[0;34m.\u001b[0m\u001b[0mshape\u001b[0m\u001b[0;34m)\u001b[0m \u001b[0;34m<\u001b[0m \u001b[0;36m3\u001b[0m\u001b[0;34m,\u001b[0m \u001b[0;34m\"The model output must be a vector or a single value!\"\u001b[0m\u001b[0;34m\u001b[0m\u001b[0;34m\u001b[0m\u001b[0m\n\u001b[0m\u001b[1;32m    107\u001b[0m         \u001b[0mself\u001b[0m\u001b[0;34m.\u001b[0m\u001b[0mmulti_output\u001b[0m \u001b[0;34m=\u001b[0m \u001b[0;32mTrue\u001b[0m\u001b[0;34m\u001b[0m\u001b[0;34m\u001b[0m\u001b[0m\n\u001b[1;32m    108\u001b[0m         \u001b[0;32mif\u001b[0m \u001b[0mlen\u001b[0m\u001b[0;34m(\u001b[0m\u001b[0mself\u001b[0m\u001b[0;34m.\u001b[0m\u001b[0mmodel_output\u001b[0m\u001b[0;34m.\u001b[0m\u001b[0mshape\u001b[0m\u001b[0;34m)\u001b[0m \u001b[0;34m==\u001b[0m \u001b[0;36m1\u001b[0m\u001b[0;34m:\u001b[0m\u001b[0;34m\u001b[0m\u001b[0;34m\u001b[0m\u001b[0m\n",
      "\u001b[0;31mAssertionError\u001b[0m: The model output must be a vector or a single value!"
     ]
    }
   ],
   "source": [
    "explainer = shap.DeepExplainer(model, X_test[:50])"
   ]
  },
  {
   "cell_type": "code",
   "execution_count": 117,
   "id": "fleet-kingdom",
   "metadata": {},
   "outputs": [
    {
     "data": {
      "text/plain": [
       "(50, 92)"
      ]
     },
     "execution_count": 117,
     "metadata": {},
     "output_type": "execute_result"
    }
   ],
   "source": [
    "X_test[:50, -1, :].shape"
   ]
  },
  {
   "cell_type": "code",
   "execution_count": 118,
   "id": "catholic-magnitude",
   "metadata": {},
   "outputs": [
    {
     "ename": "AssertionError",
     "evalue": "Instance must have 1 or 2 dimensions!",
     "output_type": "error",
     "traceback": [
      "\u001b[0;31m---------------------------------------------------------------------------\u001b[0m",
      "\u001b[0;31mAssertionError\u001b[0m                            Traceback (most recent call last)",
      "\u001b[0;32m<ipython-input-118-02d6e3db399e>\u001b[0m in \u001b[0;36m<module>\u001b[0;34m\u001b[0m\n\u001b[0;32m----> 1\u001b[0;31m \u001b[0mshap_values\u001b[0m \u001b[0;34m=\u001b[0m \u001b[0mexplainer\u001b[0m\u001b[0;34m.\u001b[0m\u001b[0mshap_values\u001b[0m\u001b[0;34m(\u001b[0m\u001b[0mX_test\u001b[0m\u001b[0;34m[\u001b[0m\u001b[0;34m:\u001b[0m\u001b[0;36m50\u001b[0m\u001b[0;34m]\u001b[0m\u001b[0;34m)\u001b[0m\u001b[0;34m\u001b[0m\u001b[0;34m\u001b[0m\u001b[0m\n\u001b[0m",
      "\u001b[0;32m~/miniconda3/envs/ML_learn/lib/python3.6/site-packages/shap/explainers/_kernel.py\u001b[0m in \u001b[0;36mshap_values\u001b[0;34m(self, X, **kwargs)\u001b[0m\n\u001b[1;32m    158\u001b[0m             \u001b[0mX\u001b[0m \u001b[0;34m=\u001b[0m \u001b[0mX\u001b[0m\u001b[0;34m.\u001b[0m\u001b[0mtolil\u001b[0m\u001b[0;34m(\u001b[0m\u001b[0;34m)\u001b[0m\u001b[0;34m\u001b[0m\u001b[0;34m\u001b[0m\u001b[0m\n\u001b[1;32m    159\u001b[0m         \u001b[0;32massert\u001b[0m \u001b[0mx_type\u001b[0m\u001b[0;34m.\u001b[0m\u001b[0mendswith\u001b[0m\u001b[0;34m(\u001b[0m\u001b[0marr_type\u001b[0m\u001b[0;34m)\u001b[0m \u001b[0;32mor\u001b[0m \u001b[0msp\u001b[0m\u001b[0;34m.\u001b[0m\u001b[0msparse\u001b[0m\u001b[0;34m.\u001b[0m\u001b[0misspmatrix_lil\u001b[0m\u001b[0;34m(\u001b[0m\u001b[0mX\u001b[0m\u001b[0;34m)\u001b[0m\u001b[0;34m,\u001b[0m \u001b[0;34m\"Unknown instance type: \"\u001b[0m \u001b[0;34m+\u001b[0m \u001b[0mx_type\u001b[0m\u001b[0;34m\u001b[0m\u001b[0;34m\u001b[0m\u001b[0m\n\u001b[0;32m--> 160\u001b[0;31m         \u001b[0;32massert\u001b[0m \u001b[0mlen\u001b[0m\u001b[0;34m(\u001b[0m\u001b[0mX\u001b[0m\u001b[0;34m.\u001b[0m\u001b[0mshape\u001b[0m\u001b[0;34m)\u001b[0m \u001b[0;34m==\u001b[0m \u001b[0;36m1\u001b[0m \u001b[0;32mor\u001b[0m \u001b[0mlen\u001b[0m\u001b[0;34m(\u001b[0m\u001b[0mX\u001b[0m\u001b[0;34m.\u001b[0m\u001b[0mshape\u001b[0m\u001b[0;34m)\u001b[0m \u001b[0;34m==\u001b[0m \u001b[0;36m2\u001b[0m\u001b[0;34m,\u001b[0m \u001b[0;34m\"Instance must have 1 or 2 dimensions!\"\u001b[0m\u001b[0;34m\u001b[0m\u001b[0;34m\u001b[0m\u001b[0m\n\u001b[0m\u001b[1;32m    161\u001b[0m \u001b[0;34m\u001b[0m\u001b[0m\n\u001b[1;32m    162\u001b[0m         \u001b[0;31m# single instance\u001b[0m\u001b[0;34m\u001b[0m\u001b[0;34m\u001b[0m\u001b[0;34m\u001b[0m\u001b[0m\n",
      "\u001b[0;31mAssertionError\u001b[0m: Instance must have 1 or 2 dimensions!"
     ]
    }
   ],
   "source": [
    "shap_values = explainer.shap_values(X_test[:50])"
   ]
  },
  {
   "cell_type": "code",
   "execution_count": 98,
   "id": "regular-complaint",
   "metadata": {},
   "outputs": [
    {
     "data": {
      "text/plain": [
       "(213, 92)"
      ]
     },
     "execution_count": 98,
     "metadata": {},
     "output_type": "execute_result"
    }
   ],
   "source": [
    "X_test[:, -1, :].shape"
   ]
  },
  {
   "cell_type": "code",
   "execution_count": null,
   "id": "frozen-miniature",
   "metadata": {},
   "outputs": [],
   "source": []
  }
 ],
 "metadata": {
  "kernelspec": {
   "display_name": "Python 3",
   "language": "python",
   "name": "python3"
  },
  "language_info": {
   "codemirror_mode": {
    "name": "ipython",
    "version": 3
   },
   "file_extension": ".py",
   "mimetype": "text/x-python",
   "name": "python",
   "nbconvert_exporter": "python",
   "pygments_lexer": "ipython3",
   "version": "3.6.12"
  }
 },
 "nbformat": 4,
 "nbformat_minor": 5
}
